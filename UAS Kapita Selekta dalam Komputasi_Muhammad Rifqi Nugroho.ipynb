{
 "cells": [
  {
   "cell_type": "markdown",
   "metadata": {},
   "source": [
    "- **``Nama : Muhammad Rifqi Nugroho``**\n",
    "- **``NIM  : 111160940000036``**\n",
    "- **``UAS Kapsel Komputasi``**"
   ]
  },
  {
   "cell_type": "markdown",
   "metadata": {},
   "source": [
    "---"
   ]
  },
  {
   "cell_type": "markdown",
   "metadata": {},
   "source": [
    "# <a name=\"top\"></a>List of References\n",
    "---\n",
    "- [Import Dataset and Modules](#1.-Import-Dataset-and-Modules)\n",
    "    - [Import Some Modules](#Import-Some-Modules) \n",
    "    - [Import CSV Files](#Import-CSV-Files)\n",
    "\n",
    "- [Hypothesis](#2.-Hypothesis)\n",
    "- [Data Wrangling & Preprocessing](#3.-Data-Wrangling-&-Preprocessing)\n",
    "    - [Feature Selection](#Feature-Selection)\n",
    "    - [Missing Value Handling](#Missing-Value-Handling)\n",
    "\n",
    "- [EDA Analysis](#4.-EDA-Analysis)\n",
    "    - [Basic Statistic](#Basic_Statistic)\n",
    "        - [Rating Statistic](#Rating)\n",
    "    - [Visualisasi](#Visualisasi)\n",
    "        - [Banyaknya Aplikasi Berdasarkan Kategori](#Banyaknya-Aplikasi-Berdasarkan-Kategori)\n",
    "        - [Banyaknya Aplikasi Berdasarkan Type(free/paid)](#Banyaknya-Aplikasi-Berdasarkan-Type(free/paid))\n",
    "        - [Jumlah aplikasi berdasarkan Konten Rating](#Jumlah-aplikasi-berdasarkan-Konten-Rating)\n",
    "        - [GAME TERPOPULER !!](#Game-Terpopuler-?)\n",
    "            - [Suka Game Strategi? Boleh dicoba nih](#Kalian-masih-tidak-suka-dengan-game-tersebut-karena-tidak-tertarik-dengan-genrenya-?)\n",
    "            - [Game Baru diperbarui](#Mau-Game-Yang-Terupdate-?-Boleh-dicoba-nih)\n",
    "            - [GAME KHUSUS SULTAN, SOBAT MISQUEEN JANGAN DOWNLOAD](#Anda-Sultan?-Wajib-beli-game-ini)\n",
    "        - [Tempat Belanja Online Terpercaya ?](#Tempat-Belanja-Online-Terpercaya-?)\n",
    "        - [Aplikasi Untuk Gambar/Design Terbaik](#Aplikasi-Untuk-Gambar/Design-Terbaik)\n",
    "        - [Aplikasi Bertukar Pesan yang Sering Digunakan Orang](#Aplikasi-Bertukar-Pesan-yang-Sering-Digunakan-Orang)\n",
    "        - [Aplikasi Sosial Media untuk yang suka membagikan tentang kehidupan kalian](#Aplikasi-Sosmed-Terpopuler)\n",
    "        - [Suka Mengasah Otak? Atau ingin belajar lebih di HP? Boleh Coba Aplikasi Belajar ini](#Aplikasi-Edukasi-Terpopuler)\n",
    "\n",
    "5. [Kesimpulan](#5.-Kesimpulan)"
   ]
  },
  {
   "cell_type": "markdown",
   "metadata": {},
   "source": [
    "# 1. Import Dataset and Modules"
   ]
  },
  {
   "cell_type": "markdown",
   "metadata": {},
   "source": [
    "Code diambil dari ``github`` (https://github.com/taufikedys/tau-data) dan beberapa sumber lainnya ``di google``.\n",
    "Dan datanya mengenai aplikasi yang terdapat ``di google playstore``, diambil dari dataset ``di kaggle`` (https://www.kaggle.com/lava18/google-play-store-apps) dengan diubah secara manual karena keterbatasan ilmu saya dan untuk mempermudah menganalisa, jadi hanya mengambil data aplikasi dengan kategori :\n",
    "- Art and Design\n",
    "- Communication\n",
    "- Education\n",
    "- Social\n",
    "- Game\n",
    "- Shopping"
   ]
  },
  {
   "cell_type": "markdown",
   "metadata": {},
   "source": [
    "## Import Some Modules"
   ]
  },
  {
   "cell_type": "code",
   "execution_count": 401,
   "metadata": {},
   "outputs": [
    {
     "name": "stdout",
     "output_type": "stream",
     "text": [
      "Module Imported\n"
     ]
    }
   ],
   "source": [
    "import scipy, itertools, pandas as pd, matplotlib.pyplot as plt, seaborn as sns, numpy as np\n",
    "import warnings; warnings.simplefilter('ignore')\n",
    "from statsmodels.graphics.mosaicplot import mosaic\n",
    "from scipy import stats\n",
    "from sklearn.preprocessing import StandardScaler, MinMaxScaler\n",
    "from mpl_toolkits.mplot3d import Axes3D\n",
    "import matplotlib.cm as cm\n",
    "\n",
    "%matplotlib inline\n",
    "plt.style.use('bmh'); sns.set()\n",
    "print(\"Module Imported\")"
   ]
  },
  {
   "cell_type": "markdown",
   "metadata": {},
   "source": [
    "## Import CSV Files"
   ]
  },
  {
   "cell_type": "code",
   "execution_count": 402,
   "metadata": {},
   "outputs": [
    {
     "name": "stdout",
     "output_type": "stream",
     "text": [
      "import succes\n"
     ]
    },
    {
     "data": {
      "text/html": [
       "<div>\n",
       "<style scoped>\n",
       "    .dataframe tbody tr th:only-of-type {\n",
       "        vertical-align: middle;\n",
       "    }\n",
       "\n",
       "    .dataframe tbody tr th {\n",
       "        vertical-align: top;\n",
       "    }\n",
       "\n",
       "    .dataframe thead th {\n",
       "        text-align: right;\n",
       "    }\n",
       "</style>\n",
       "<table border=\"1\" class=\"dataframe\">\n",
       "  <thead>\n",
       "    <tr style=\"text-align: right;\">\n",
       "      <th></th>\n",
       "      <th>App</th>\n",
       "      <th>Category</th>\n",
       "      <th>Rating</th>\n",
       "      <th>Reviews</th>\n",
       "      <th>Size</th>\n",
       "      <th>Install</th>\n",
       "      <th>Type</th>\n",
       "      <th>Price</th>\n",
       "      <th>Content_Rating</th>\n",
       "      <th>Genres</th>\n",
       "      <th>Last_Updated</th>\n",
       "      <th>Android_Version</th>\n",
       "    </tr>\n",
       "  </thead>\n",
       "  <tbody>\n",
       "    <tr>\n",
       "      <th>0</th>\n",
       "      <td>Photo Editor &amp; Candy Camera &amp; Grid &amp; ScrapBook</td>\n",
       "      <td>ART_AND_DESIGN</td>\n",
       "      <td>4.1</td>\n",
       "      <td>159</td>\n",
       "      <td>19</td>\n",
       "      <td>10000</td>\n",
       "      <td>Free</td>\n",
       "      <td>0.0</td>\n",
       "      <td>Everyone</td>\n",
       "      <td>Art &amp; Design</td>\n",
       "      <td>01/07/18</td>\n",
       "      <td>4.0.3 and up</td>\n",
       "    </tr>\n",
       "    <tr>\n",
       "      <th>1</th>\n",
       "      <td>Coloring book moana</td>\n",
       "      <td>ART_AND_DESIGN</td>\n",
       "      <td>3.9</td>\n",
       "      <td>967</td>\n",
       "      <td>14</td>\n",
       "      <td>500000</td>\n",
       "      <td>Free</td>\n",
       "      <td>0.0</td>\n",
       "      <td>Everyone</td>\n",
       "      <td>Art &amp; Design</td>\n",
       "      <td>01/15/18</td>\n",
       "      <td>4.0.3 and up</td>\n",
       "    </tr>\n",
       "    <tr>\n",
       "      <th>2</th>\n",
       "      <td>U Launcher Lite – FREE Live Cool Themes, Hide ...</td>\n",
       "      <td>ART_AND_DESIGN</td>\n",
       "      <td>4.7</td>\n",
       "      <td>87510</td>\n",
       "      <td>8.7</td>\n",
       "      <td>5000000</td>\n",
       "      <td>Free</td>\n",
       "      <td>0.0</td>\n",
       "      <td>Everyone</td>\n",
       "      <td>Art &amp; Design</td>\n",
       "      <td>08/01/18</td>\n",
       "      <td>4.0.3 and up</td>\n",
       "    </tr>\n",
       "    <tr>\n",
       "      <th>3</th>\n",
       "      <td>Sketch - Draw &amp; Paint</td>\n",
       "      <td>ART_AND_DESIGN</td>\n",
       "      <td>4.5</td>\n",
       "      <td>215644</td>\n",
       "      <td>25</td>\n",
       "      <td>50000000</td>\n",
       "      <td>Free</td>\n",
       "      <td>0.0</td>\n",
       "      <td>Teen</td>\n",
       "      <td>Art &amp; Design</td>\n",
       "      <td>06/08/18</td>\n",
       "      <td>4.2 and up</td>\n",
       "    </tr>\n",
       "    <tr>\n",
       "      <th>4</th>\n",
       "      <td>Pixel Draw - Number Art Coloring Book</td>\n",
       "      <td>ART_AND_DESIGN</td>\n",
       "      <td>4.3</td>\n",
       "      <td>967</td>\n",
       "      <td>2.8</td>\n",
       "      <td>100000</td>\n",
       "      <td>Free</td>\n",
       "      <td>0.0</td>\n",
       "      <td>Everyone</td>\n",
       "      <td>Art &amp; Design</td>\n",
       "      <td>06/20/18</td>\n",
       "      <td>4.4 and up</td>\n",
       "    </tr>\n",
       "  </tbody>\n",
       "</table>\n",
       "</div>"
      ],
      "text/plain": [
       "                                                 App        Category  Rating  \\\n",
       "0     Photo Editor & Candy Camera & Grid & ScrapBook  ART_AND_DESIGN     4.1   \n",
       "1                                Coloring book moana  ART_AND_DESIGN     3.9   \n",
       "2  U Launcher Lite – FREE Live Cool Themes, Hide ...  ART_AND_DESIGN     4.7   \n",
       "3                              Sketch - Draw & Paint  ART_AND_DESIGN     4.5   \n",
       "4              Pixel Draw - Number Art Coloring Book  ART_AND_DESIGN     4.3   \n",
       "\n",
       "   Reviews Size   Install  Type  Price Content_Rating        Genres  \\\n",
       "0      159   19     10000  Free    0.0       Everyone  Art & Design   \n",
       "1      967   14    500000  Free    0.0       Everyone  Art & Design   \n",
       "2    87510  8.7   5000000  Free    0.0       Everyone  Art & Design   \n",
       "3   215644   25  50000000  Free    0.0           Teen  Art & Design   \n",
       "4      967  2.8    100000  Free    0.0       Everyone  Art & Design   \n",
       "\n",
       "  Last_Updated Android_Version  \n",
       "0     01/07/18    4.0.3 and up  \n",
       "1     01/15/18    4.0.3 and up  \n",
       "2     08/01/18    4.0.3 and up  \n",
       "3     06/08/18      4.2 and up  \n",
       "4     06/20/18      4.4 and up  "
      ]
     },
     "execution_count": 402,
     "metadata": {},
     "output_type": "execute_result"
    }
   ],
   "source": [
    "gplay = pd.read_csv(\"gplay.csv\")\n",
    "print(\"import succes\")\n",
    "gplay.head()"
   ]
  },
  {
   "cell_type": "markdown",
   "metadata": {},
   "source": [
    "[Go to top](#top)"
   ]
  },
  {
   "cell_type": "markdown",
   "metadata": {},
   "source": [
    "# 2. Hypothesis"
   ]
  },
  {
   "cell_type": "markdown",
   "metadata": {},
   "source": []
  },
  {
   "cell_type": "markdown",
   "metadata": {},
   "source": [
    "[Go to top](#top)"
   ]
  },
  {
   "cell_type": "markdown",
   "metadata": {},
   "source": [
    "# 3. Data Wrangling & Preprocessing"
   ]
  },
  {
   "cell_type": "markdown",
   "metadata": {},
   "source": [
    "## Feature Selection"
   ]
  },
  {
   "cell_type": "markdown",
   "metadata": {},
   "source": [
    "Akan dipilih variabel yang kemungkinan tidak akan digunakan"
   ]
  },
  {
   "cell_type": "code",
   "execution_count": 403,
   "metadata": {},
   "outputs": [
    {
     "name": "stdout",
     "output_type": "stream",
     "text": [
      "<class 'pandas.core.frame.DataFrame'>\n",
      "RangeIndex: 964 entries, 0 to 963\n",
      "Data columns (total 12 columns):\n",
      "App                964 non-null object\n",
      "Category           964 non-null object\n",
      "Rating             962 non-null float64\n",
      "Reviews            964 non-null int64\n",
      "Size               964 non-null object\n",
      "Install            964 non-null int64\n",
      "Type               964 non-null object\n",
      "Price              964 non-null float64\n",
      "Content_Rating     964 non-null object\n",
      "Genres             964 non-null object\n",
      "Last_Updated       954 non-null object\n",
      "Android_Version    964 non-null object\n",
      "dtypes: float64(2), int64(2), object(8)\n",
      "memory usage: 90.5+ KB\n"
     ]
    }
   ],
   "source": [
    "gplay.info()"
   ]
  },
  {
   "cell_type": "markdown",
   "metadata": {},
   "source": [
    "Drop kolom Android Version, karena tidak akan digunakan dalam analisa ini"
   ]
  },
  {
   "cell_type": "code",
   "execution_count": 404,
   "metadata": {},
   "outputs": [
    {
     "name": "stdout",
     "output_type": "stream",
     "text": [
      "Dropped\n"
     ]
    }
   ],
   "source": [
    "gplay.drop(\"Android_Version\", axis=1, inplace=True)\n",
    "print(\"Dropped\")"
   ]
  },
  {
   "cell_type": "markdown",
   "metadata": {},
   "source": [
    "## Missing Value Handling"
   ]
  },
  {
   "cell_type": "markdown",
   "metadata": {},
   "source": [
    "Akan dicek apakah data terdapat bagian yang hilang atau tidak, jika ada maka akan diatasi dengan metode mean atau rata-rata"
   ]
  },
  {
   "cell_type": "code",
   "execution_count": 405,
   "metadata": {},
   "outputs": [
    {
     "data": {
      "text/plain": [
       "App                0\n",
       "Category           0\n",
       "Rating             2\n",
       "Reviews            0\n",
       "Size               0\n",
       "Install            0\n",
       "Type               0\n",
       "Price              0\n",
       "Content_Rating     0\n",
       "Genres             0\n",
       "Last_Updated      10\n",
       "dtype: int64"
      ]
     },
     "execution_count": 405,
     "metadata": {},
     "output_type": "execute_result"
    }
   ],
   "source": [
    "gplay.isnull().sum()"
   ]
  },
  {
   "cell_type": "markdown",
   "metadata": {},
   "source": [
    "Mulai dari menghandling missing value data numerik"
   ]
  },
  {
   "cell_type": "code",
   "execution_count": 406,
   "metadata": {},
   "outputs": [
    {
     "name": "stdout",
     "output_type": "stream",
     "text": [
      "App                0\n",
      "Category           0\n",
      "Rating             0\n",
      "Reviews            0\n",
      "Size               0\n",
      "Install            0\n",
      "Type               0\n",
      "Price              0\n",
      "Content_Rating     0\n",
      "Genres             0\n",
      "Last_Updated      10\n",
      "dtype: int64\n"
     ]
    }
   ],
   "source": [
    "gplay.fillna(gplay.mean(), inplace = True)\n",
    "print (gplay.isna().sum())"
   ]
  },
  {
   "cell_type": "markdown",
   "metadata": {},
   "source": [
    "Kemudian dilanjutkan dengan data kategorik"
   ]
  },
  {
   "cell_type": "code",
   "execution_count": 407,
   "metadata": {},
   "outputs": [
    {
     "data": {
      "text/plain": [
       "App               0\n",
       "Category          0\n",
       "Rating            0\n",
       "Reviews           0\n",
       "Size              0\n",
       "Install           0\n",
       "Type              0\n",
       "Price             0\n",
       "Content_Rating    0\n",
       "Genres            0\n",
       "Last_Updated      0\n",
       "dtype: int64"
      ]
     },
     "execution_count": 407,
     "metadata": {},
     "output_type": "execute_result"
    }
   ],
   "source": [
    "from sklearn.base import TransformerMixin\n",
    "class DataFrameImputer(TransformerMixin):\n",
    "    def fit(self, X, y=None):\n",
    "        self.fill = pd.Series([X[c].value_counts().index[0]\n",
    "            if X[c].dtype == np.dtype('O') else X[c].mean() for c in X],\n",
    "            index=X.columns)\n",
    "        return self\n",
    "    def transform(self, X, y=None):\n",
    "        return X.fillna(self.fill)\n",
    "gplay2 = DataFrameImputer().fit_transform(gplay)\n",
    "gplay2.isnull().sum()"
   ]
  },
  {
   "cell_type": "markdown",
   "metadata": {},
   "source": [
    "*Semua data sudah tidak ada missing value*"
   ]
  },
  {
   "cell_type": "markdown",
   "metadata": {},
   "source": [
    "[Go to top](#top)"
   ]
  },
  {
   "cell_type": "markdown",
   "metadata": {},
   "source": [
    "# 4. EDA Analysis"
   ]
  },
  {
   "cell_type": "markdown",
   "metadata": {},
   "source": [
    "## Basic Statistic"
   ]
  },
  {
   "cell_type": "markdown",
   "metadata": {},
   "source": [
    "### *Rating*\n",
    "*Akan dicari*\n",
    "    \n",
    "    a. total aplikasi berdasarkan rating\n",
    "    b. rating rata-rata aplikasi berdasarkan kategori\n",
    "    c. rating terbesar tiap kategori"
   ]
  },
  {
   "cell_type": "markdown",
   "metadata": {},
   "source": [
    "**a. total aplikasi berdasarkan rating**"
   ]
  },
  {
   "cell_type": "code",
   "execution_count": 408,
   "metadata": {},
   "outputs": [
    {
     "data": {
      "text/html": [
       "<div>\n",
       "<style scoped>\n",
       "    .dataframe tbody tr th:only-of-type {\n",
       "        vertical-align: middle;\n",
       "    }\n",
       "\n",
       "    .dataframe tbody tr th {\n",
       "        vertical-align: top;\n",
       "    }\n",
       "\n",
       "    .dataframe thead th {\n",
       "        text-align: right;\n",
       "    }\n",
       "</style>\n",
       "<table border=\"1\" class=\"dataframe\">\n",
       "  <thead>\n",
       "    <tr style=\"text-align: right;\">\n",
       "      <th></th>\n",
       "      <th>App</th>\n",
       "      <th>Category</th>\n",
       "      <th>Reviews</th>\n",
       "      <th>Size</th>\n",
       "      <th>Install</th>\n",
       "      <th>Type</th>\n",
       "      <th>Price</th>\n",
       "      <th>Content_Rating</th>\n",
       "      <th>Genres</th>\n",
       "      <th>Last_Updated</th>\n",
       "    </tr>\n",
       "    <tr>\n",
       "      <th>Rating</th>\n",
       "      <th></th>\n",
       "      <th></th>\n",
       "      <th></th>\n",
       "      <th></th>\n",
       "      <th></th>\n",
       "      <th></th>\n",
       "      <th></th>\n",
       "      <th></th>\n",
       "      <th></th>\n",
       "      <th></th>\n",
       "    </tr>\n",
       "  </thead>\n",
       "  <tbody>\n",
       "    <tr>\n",
       "      <th>3.100000</th>\n",
       "      <td>1</td>\n",
       "      <td>1</td>\n",
       "      <td>1</td>\n",
       "      <td>1</td>\n",
       "      <td>1</td>\n",
       "      <td>1</td>\n",
       "      <td>1</td>\n",
       "      <td>1</td>\n",
       "      <td>1</td>\n",
       "      <td>1</td>\n",
       "    </tr>\n",
       "    <tr>\n",
       "      <th>3.200000</th>\n",
       "      <td>1</td>\n",
       "      <td>1</td>\n",
       "      <td>1</td>\n",
       "      <td>1</td>\n",
       "      <td>1</td>\n",
       "      <td>1</td>\n",
       "      <td>1</td>\n",
       "      <td>1</td>\n",
       "      <td>1</td>\n",
       "      <td>1</td>\n",
       "    </tr>\n",
       "    <tr>\n",
       "      <th>3.300000</th>\n",
       "      <td>1</td>\n",
       "      <td>1</td>\n",
       "      <td>1</td>\n",
       "      <td>1</td>\n",
       "      <td>1</td>\n",
       "      <td>1</td>\n",
       "      <td>1</td>\n",
       "      <td>1</td>\n",
       "      <td>1</td>\n",
       "      <td>1</td>\n",
       "    </tr>\n",
       "    <tr>\n",
       "      <th>3.400000</th>\n",
       "      <td>1</td>\n",
       "      <td>1</td>\n",
       "      <td>1</td>\n",
       "      <td>1</td>\n",
       "      <td>1</td>\n",
       "      <td>1</td>\n",
       "      <td>1</td>\n",
       "      <td>1</td>\n",
       "      <td>1</td>\n",
       "      <td>1</td>\n",
       "    </tr>\n",
       "    <tr>\n",
       "      <th>3.500000</th>\n",
       "      <td>1</td>\n",
       "      <td>1</td>\n",
       "      <td>1</td>\n",
       "      <td>1</td>\n",
       "      <td>1</td>\n",
       "      <td>1</td>\n",
       "      <td>1</td>\n",
       "      <td>1</td>\n",
       "      <td>1</td>\n",
       "      <td>1</td>\n",
       "    </tr>\n",
       "    <tr>\n",
       "      <th>3.600000</th>\n",
       "      <td>6</td>\n",
       "      <td>6</td>\n",
       "      <td>6</td>\n",
       "      <td>6</td>\n",
       "      <td>6</td>\n",
       "      <td>6</td>\n",
       "      <td>6</td>\n",
       "      <td>6</td>\n",
       "      <td>6</td>\n",
       "      <td>6</td>\n",
       "    </tr>\n",
       "    <tr>\n",
       "      <th>3.700000</th>\n",
       "      <td>5</td>\n",
       "      <td>5</td>\n",
       "      <td>5</td>\n",
       "      <td>5</td>\n",
       "      <td>5</td>\n",
       "      <td>5</td>\n",
       "      <td>5</td>\n",
       "      <td>5</td>\n",
       "      <td>5</td>\n",
       "      <td>5</td>\n",
       "    </tr>\n",
       "    <tr>\n",
       "      <th>3.800000</th>\n",
       "      <td>12</td>\n",
       "      <td>12</td>\n",
       "      <td>12</td>\n",
       "      <td>12</td>\n",
       "      <td>12</td>\n",
       "      <td>12</td>\n",
       "      <td>12</td>\n",
       "      <td>12</td>\n",
       "      <td>12</td>\n",
       "      <td>12</td>\n",
       "    </tr>\n",
       "    <tr>\n",
       "      <th>3.900000</th>\n",
       "      <td>9</td>\n",
       "      <td>9</td>\n",
       "      <td>9</td>\n",
       "      <td>9</td>\n",
       "      <td>9</td>\n",
       "      <td>9</td>\n",
       "      <td>9</td>\n",
       "      <td>9</td>\n",
       "      <td>9</td>\n",
       "      <td>9</td>\n",
       "    </tr>\n",
       "    <tr>\n",
       "      <th>4.000000</th>\n",
       "      <td>47</td>\n",
       "      <td>47</td>\n",
       "      <td>47</td>\n",
       "      <td>47</td>\n",
       "      <td>47</td>\n",
       "      <td>47</td>\n",
       "      <td>47</td>\n",
       "      <td>47</td>\n",
       "      <td>47</td>\n",
       "      <td>47</td>\n",
       "    </tr>\n",
       "    <tr>\n",
       "      <th>4.100000</th>\n",
       "      <td>71</td>\n",
       "      <td>71</td>\n",
       "      <td>71</td>\n",
       "      <td>71</td>\n",
       "      <td>71</td>\n",
       "      <td>71</td>\n",
       "      <td>71</td>\n",
       "      <td>71</td>\n",
       "      <td>71</td>\n",
       "      <td>71</td>\n",
       "    </tr>\n",
       "    <tr>\n",
       "      <th>4.200000</th>\n",
       "      <td>123</td>\n",
       "      <td>123</td>\n",
       "      <td>123</td>\n",
       "      <td>123</td>\n",
       "      <td>123</td>\n",
       "      <td>123</td>\n",
       "      <td>123</td>\n",
       "      <td>123</td>\n",
       "      <td>123</td>\n",
       "      <td>123</td>\n",
       "    </tr>\n",
       "    <tr>\n",
       "      <th>4.300000</th>\n",
       "      <td>152</td>\n",
       "      <td>152</td>\n",
       "      <td>152</td>\n",
       "      <td>152</td>\n",
       "      <td>152</td>\n",
       "      <td>152</td>\n",
       "      <td>152</td>\n",
       "      <td>152</td>\n",
       "      <td>152</td>\n",
       "      <td>152</td>\n",
       "    </tr>\n",
       "    <tr>\n",
       "      <th>4.362682</th>\n",
       "      <td>2</td>\n",
       "      <td>2</td>\n",
       "      <td>2</td>\n",
       "      <td>2</td>\n",
       "      <td>2</td>\n",
       "      <td>2</td>\n",
       "      <td>2</td>\n",
       "      <td>2</td>\n",
       "      <td>2</td>\n",
       "      <td>2</td>\n",
       "    </tr>\n",
       "    <tr>\n",
       "      <th>4.400000</th>\n",
       "      <td>159</td>\n",
       "      <td>159</td>\n",
       "      <td>159</td>\n",
       "      <td>159</td>\n",
       "      <td>159</td>\n",
       "      <td>159</td>\n",
       "      <td>159</td>\n",
       "      <td>159</td>\n",
       "      <td>159</td>\n",
       "      <td>159</td>\n",
       "    </tr>\n",
       "    <tr>\n",
       "      <th>4.500000</th>\n",
       "      <td>157</td>\n",
       "      <td>157</td>\n",
       "      <td>157</td>\n",
       "      <td>157</td>\n",
       "      <td>157</td>\n",
       "      <td>157</td>\n",
       "      <td>157</td>\n",
       "      <td>157</td>\n",
       "      <td>157</td>\n",
       "      <td>157</td>\n",
       "    </tr>\n",
       "    <tr>\n",
       "      <th>4.600000</th>\n",
       "      <td>126</td>\n",
       "      <td>126</td>\n",
       "      <td>126</td>\n",
       "      <td>126</td>\n",
       "      <td>126</td>\n",
       "      <td>126</td>\n",
       "      <td>126</td>\n",
       "      <td>126</td>\n",
       "      <td>126</td>\n",
       "      <td>126</td>\n",
       "    </tr>\n",
       "    <tr>\n",
       "      <th>4.700000</th>\n",
       "      <td>77</td>\n",
       "      <td>77</td>\n",
       "      <td>77</td>\n",
       "      <td>77</td>\n",
       "      <td>77</td>\n",
       "      <td>77</td>\n",
       "      <td>77</td>\n",
       "      <td>77</td>\n",
       "      <td>77</td>\n",
       "      <td>77</td>\n",
       "    </tr>\n",
       "    <tr>\n",
       "      <th>4.800000</th>\n",
       "      <td>10</td>\n",
       "      <td>10</td>\n",
       "      <td>10</td>\n",
       "      <td>10</td>\n",
       "      <td>10</td>\n",
       "      <td>10</td>\n",
       "      <td>10</td>\n",
       "      <td>10</td>\n",
       "      <td>10</td>\n",
       "      <td>10</td>\n",
       "    </tr>\n",
       "    <tr>\n",
       "      <th>4.900000</th>\n",
       "      <td>3</td>\n",
       "      <td>3</td>\n",
       "      <td>3</td>\n",
       "      <td>3</td>\n",
       "      <td>3</td>\n",
       "      <td>3</td>\n",
       "      <td>3</td>\n",
       "      <td>3</td>\n",
       "      <td>3</td>\n",
       "      <td>3</td>\n",
       "    </tr>\n",
       "  </tbody>\n",
       "</table>\n",
       "</div>"
      ],
      "text/plain": [
       "          App  Category  Reviews  Size  Install  Type  Price  Content_Rating  \\\n",
       "Rating                                                                         \n",
       "3.100000    1         1        1     1        1     1      1               1   \n",
       "3.200000    1         1        1     1        1     1      1               1   \n",
       "3.300000    1         1        1     1        1     1      1               1   \n",
       "3.400000    1         1        1     1        1     1      1               1   \n",
       "3.500000    1         1        1     1        1     1      1               1   \n",
       "3.600000    6         6        6     6        6     6      6               6   \n",
       "3.700000    5         5        5     5        5     5      5               5   \n",
       "3.800000   12        12       12    12       12    12     12              12   \n",
       "3.900000    9         9        9     9        9     9      9               9   \n",
       "4.000000   47        47       47    47       47    47     47              47   \n",
       "4.100000   71        71       71    71       71    71     71              71   \n",
       "4.200000  123       123      123   123      123   123    123             123   \n",
       "4.300000  152       152      152   152      152   152    152             152   \n",
       "4.362682    2         2        2     2        2     2      2               2   \n",
       "4.400000  159       159      159   159      159   159    159             159   \n",
       "4.500000  157       157      157   157      157   157    157             157   \n",
       "4.600000  126       126      126   126      126   126    126             126   \n",
       "4.700000   77        77       77    77       77    77     77              77   \n",
       "4.800000   10        10       10    10       10    10     10              10   \n",
       "4.900000    3         3        3     3        3     3      3               3   \n",
       "\n",
       "          Genres  Last_Updated  \n",
       "Rating                          \n",
       "3.100000       1             1  \n",
       "3.200000       1             1  \n",
       "3.300000       1             1  \n",
       "3.400000       1             1  \n",
       "3.500000       1             1  \n",
       "3.600000       6             6  \n",
       "3.700000       5             5  \n",
       "3.800000      12            12  \n",
       "3.900000       9             9  \n",
       "4.000000      47            47  \n",
       "4.100000      71            71  \n",
       "4.200000     123           123  \n",
       "4.300000     152           152  \n",
       "4.362682       2             2  \n",
       "4.400000     159           159  \n",
       "4.500000     157           157  \n",
       "4.600000     126           126  \n",
       "4.700000      77            77  \n",
       "4.800000      10            10  \n",
       "4.900000       3             3  "
      ]
     },
     "execution_count": 408,
     "metadata": {},
     "output_type": "execute_result"
    }
   ],
   "source": [
    "gplay2.groupby([\"Rating\"]).count()"
   ]
  },
  {
   "cell_type": "markdown",
   "metadata": {},
   "source": [
    "*Aplikasi terbanyak berada pada Rating 4.4 yaitu sebanyak 159 Aplikasi*"
   ]
  },
  {
   "cell_type": "markdown",
   "metadata": {},
   "source": [
    "**b. rating rata-rata aplikasi berdasarkan kategori**"
   ]
  },
  {
   "cell_type": "code",
   "execution_count": 409,
   "metadata": {},
   "outputs": [
    {
     "name": "stdout",
     "output_type": "stream",
     "text": [
      "(6, 4)\n"
     ]
    },
    {
     "data": {
      "text/html": [
       "<div>\n",
       "<style scoped>\n",
       "    .dataframe tbody tr th:only-of-type {\n",
       "        vertical-align: middle;\n",
       "    }\n",
       "\n",
       "    .dataframe tbody tr th {\n",
       "        vertical-align: top;\n",
       "    }\n",
       "\n",
       "    .dataframe thead th {\n",
       "        text-align: right;\n",
       "    }\n",
       "</style>\n",
       "<table border=\"1\" class=\"dataframe\">\n",
       "  <thead>\n",
       "    <tr style=\"text-align: right;\">\n",
       "      <th></th>\n",
       "      <th>Rating</th>\n",
       "      <th>Reviews</th>\n",
       "      <th>Install</th>\n",
       "      <th>Price</th>\n",
       "    </tr>\n",
       "    <tr>\n",
       "      <th>Category</th>\n",
       "      <th></th>\n",
       "      <th></th>\n",
       "      <th></th>\n",
       "      <th></th>\n",
       "    </tr>\n",
       "  </thead>\n",
       "  <tbody>\n",
       "    <tr>\n",
       "      <th>ART_AND_DESIGN</th>\n",
       "      <td>4.317606</td>\n",
       "      <td>2.877773e+04</td>\n",
       "      <td>2.326429e+06</td>\n",
       "      <td>0.000000</td>\n",
       "    </tr>\n",
       "    <tr>\n",
       "      <th>COMMUNICATION</th>\n",
       "      <td>4.260284</td>\n",
       "      <td>3.876096e+06</td>\n",
       "      <td>1.586362e+08</td>\n",
       "      <td>0.028298</td>\n",
       "    </tr>\n",
       "    <tr>\n",
       "      <th>EDUCATION</th>\n",
       "      <td>4.388863</td>\n",
       "      <td>2.538191e+05</td>\n",
       "      <td>5.586231e+06</td>\n",
       "      <td>0.115128</td>\n",
       "    </tr>\n",
       "    <tr>\n",
       "      <th>GAME</th>\n",
       "      <td>4.454848</td>\n",
       "      <td>3.476595e+06</td>\n",
       "      <td>7.413795e+07</td>\n",
       "      <td>0.132715</td>\n",
       "    </tr>\n",
       "    <tr>\n",
       "      <th>SHOPPING</th>\n",
       "      <td>4.302041</td>\n",
       "      <td>5.996957e+05</td>\n",
       "      <td>1.715612e+07</td>\n",
       "      <td>0.000000</td>\n",
       "    </tr>\n",
       "    <tr>\n",
       "      <th>SOCIAL</th>\n",
       "      <td>4.255455</td>\n",
       "      <td>3.728013e+06</td>\n",
       "      <td>8.272318e+07</td>\n",
       "      <td>0.000000</td>\n",
       "    </tr>\n",
       "  </tbody>\n",
       "</table>\n",
       "</div>"
      ],
      "text/plain": [
       "                  Rating       Reviews       Install     Price\n",
       "Category                                                      \n",
       "ART_AND_DESIGN  4.317606  2.877773e+04  2.326429e+06  0.000000\n",
       "COMMUNICATION   4.260284  3.876096e+06  1.586362e+08  0.028298\n",
       "EDUCATION       4.388863  2.538191e+05  5.586231e+06  0.115128\n",
       "GAME            4.454848  3.476595e+06  7.413795e+07  0.132715\n",
       "SHOPPING        4.302041  5.996957e+05  1.715612e+07  0.000000\n",
       "SOCIAL          4.255455  3.728013e+06  8.272318e+07  0.000000"
      ]
     },
     "execution_count": 409,
     "metadata": {},
     "output_type": "execute_result"
    }
   ],
   "source": [
    "Kategori = gplay2.groupby([\"Category\"]).mean()\n",
    "print(Kategori.shape)\n",
    "Kategori"
   ]
  },
  {
   "cell_type": "markdown",
   "metadata": {},
   "source": [
    "**c. rating maksimum tiap kategori**"
   ]
  },
  {
   "cell_type": "markdown",
   "metadata": {},
   "source": [
    "Di sini hanya diambil salah satu aplikasi pada kategori tertentu yang memiliki rating terbesar"
   ]
  },
  {
   "cell_type": "code",
   "execution_count": 410,
   "metadata": {},
   "outputs": [
    {
     "name": "stdout",
     "output_type": "stream",
     "text": [
      "(6, 10)\n"
     ]
    },
    {
     "data": {
      "text/html": [
       "<div>\n",
       "<style scoped>\n",
       "    .dataframe tbody tr th:only-of-type {\n",
       "        vertical-align: middle;\n",
       "    }\n",
       "\n",
       "    .dataframe tbody tr th {\n",
       "        vertical-align: top;\n",
       "    }\n",
       "\n",
       "    .dataframe thead th {\n",
       "        text-align: right;\n",
       "    }\n",
       "</style>\n",
       "<table border=\"1\" class=\"dataframe\">\n",
       "  <thead>\n",
       "    <tr style=\"text-align: right;\">\n",
       "      <th></th>\n",
       "      <th>App</th>\n",
       "      <th>Rating</th>\n",
       "      <th>Reviews</th>\n",
       "      <th>Size</th>\n",
       "      <th>Install</th>\n",
       "      <th>Type</th>\n",
       "      <th>Price</th>\n",
       "      <th>Content_Rating</th>\n",
       "      <th>Genres</th>\n",
       "      <th>Last_Updated</th>\n",
       "    </tr>\n",
       "    <tr>\n",
       "      <th>Category</th>\n",
       "      <th></th>\n",
       "      <th></th>\n",
       "      <th></th>\n",
       "      <th></th>\n",
       "      <th></th>\n",
       "      <th></th>\n",
       "      <th></th>\n",
       "      <th></th>\n",
       "      <th></th>\n",
       "      <th></th>\n",
       "    </tr>\n",
       "  </thead>\n",
       "  <tbody>\n",
       "    <tr>\n",
       "      <th>ART_AND_DESIGN</th>\n",
       "      <td>ibis Paint X</td>\n",
       "      <td>4.8</td>\n",
       "      <td>295221</td>\n",
       "      <td>Varies with device</td>\n",
       "      <td>50000000</td>\n",
       "      <td>Free</td>\n",
       "      <td>0.00</td>\n",
       "      <td>Teen</td>\n",
       "      <td>Art &amp; Design</td>\n",
       "      <td>12/17/17</td>\n",
       "    </tr>\n",
       "    <tr>\n",
       "      <th>COMMUNICATION</th>\n",
       "      <td>mysms SMS Text Messaging Sync</td>\n",
       "      <td>4.8</td>\n",
       "      <td>69119316</td>\n",
       "      <td>Varies with device</td>\n",
       "      <td>1000000000</td>\n",
       "      <td>Paid</td>\n",
       "      <td>3.99</td>\n",
       "      <td>Teen</td>\n",
       "      <td>Communication</td>\n",
       "      <td>12/04/17</td>\n",
       "    </tr>\n",
       "    <tr>\n",
       "      <th>EDUCATION</th>\n",
       "      <td>play2prep: ACT, SAT prep</td>\n",
       "      <td>4.9</td>\n",
       "      <td>6290507</td>\n",
       "      <td>Varies with device</td>\n",
       "      <td>100000000</td>\n",
       "      <td>Paid</td>\n",
       "      <td>5.99</td>\n",
       "      <td>Teen</td>\n",
       "      <td>Education</td>\n",
       "      <td>12/29/17</td>\n",
       "    </tr>\n",
       "    <tr>\n",
       "      <th>GAME</th>\n",
       "      <td>slither.io</td>\n",
       "      <td>4.9</td>\n",
       "      <td>44893888</td>\n",
       "      <td>Varies with device</td>\n",
       "      <td>1000000000</td>\n",
       "      <td>Paid</td>\n",
       "      <td>9.99</td>\n",
       "      <td>Teen</td>\n",
       "      <td>Word</td>\n",
       "      <td>12/29/17</td>\n",
       "    </tr>\n",
       "    <tr>\n",
       "      <th>SHOPPING</th>\n",
       "      <td>zulily - Shop Daily Deals in Fashion and Home</td>\n",
       "      <td>4.7</td>\n",
       "      <td>6212081</td>\n",
       "      <td>Varies with device</td>\n",
       "      <td>100000000</td>\n",
       "      <td>Free</td>\n",
       "      <td>0.00</td>\n",
       "      <td>Teen</td>\n",
       "      <td>Shopping</td>\n",
       "      <td>12/22/17</td>\n",
       "    </tr>\n",
       "    <tr>\n",
       "      <th>SOCIAL</th>\n",
       "      <td>💘 WhatsLov: Smileys of love, stickers and GIF</td>\n",
       "      <td>4.8</td>\n",
       "      <td>78158306</td>\n",
       "      <td>Varies with device</td>\n",
       "      <td>1000000000</td>\n",
       "      <td>Free</td>\n",
       "      <td>0.00</td>\n",
       "      <td>Teen</td>\n",
       "      <td>Social</td>\n",
       "      <td>12/05/17</td>\n",
       "    </tr>\n",
       "  </tbody>\n",
       "</table>\n",
       "</div>"
      ],
      "text/plain": [
       "                                                          App  Rating  \\\n",
       "Category                                                                \n",
       "ART_AND_DESIGN                                   ibis Paint X     4.8   \n",
       "COMMUNICATION                   mysms SMS Text Messaging Sync     4.8   \n",
       "EDUCATION                            play2prep: ACT, SAT prep     4.9   \n",
       "GAME                                               slither.io     4.9   \n",
       "SHOPPING        zulily - Shop Daily Deals in Fashion and Home     4.7   \n",
       "SOCIAL          💘 WhatsLov: Smileys of love, stickers and GIF     4.8   \n",
       "\n",
       "                 Reviews                Size     Install  Type  Price  \\\n",
       "Category                                                                \n",
       "ART_AND_DESIGN    295221  Varies with device    50000000  Free   0.00   \n",
       "COMMUNICATION   69119316  Varies with device  1000000000  Paid   3.99   \n",
       "EDUCATION        6290507  Varies with device   100000000  Paid   5.99   \n",
       "GAME            44893888  Varies with device  1000000000  Paid   9.99   \n",
       "SHOPPING         6212081  Varies with device   100000000  Free   0.00   \n",
       "SOCIAL          78158306  Varies with device  1000000000  Free   0.00   \n",
       "\n",
       "               Content_Rating         Genres Last_Updated  \n",
       "Category                                                   \n",
       "ART_AND_DESIGN           Teen   Art & Design     12/17/17  \n",
       "COMMUNICATION            Teen  Communication     12/04/17  \n",
       "EDUCATION                Teen      Education     12/29/17  \n",
       "GAME                     Teen           Word     12/29/17  \n",
       "SHOPPING                 Teen       Shopping     12/22/17  \n",
       "SOCIAL                   Teen         Social     12/05/17  "
      ]
     },
     "execution_count": 410,
     "metadata": {},
     "output_type": "execute_result"
    }
   ],
   "source": [
    "Kategorimax = gplay2.groupby([\"Category\"]).max()\n",
    "print(Kategorimax.shape)\n",
    "Kategorimax"
   ]
  },
  {
   "cell_type": "code",
   "execution_count": 411,
   "metadata": {},
   "outputs": [
    {
     "data": {
      "text/html": [
       "<div>\n",
       "<style scoped>\n",
       "    .dataframe tbody tr th:only-of-type {\n",
       "        vertical-align: middle;\n",
       "    }\n",
       "\n",
       "    .dataframe tbody tr th {\n",
       "        vertical-align: top;\n",
       "    }\n",
       "\n",
       "    .dataframe thead th {\n",
       "        text-align: right;\n",
       "    }\n",
       "</style>\n",
       "<table border=\"1\" class=\"dataframe\">\n",
       "  <thead>\n",
       "    <tr style=\"text-align: right;\">\n",
       "      <th></th>\n",
       "      <th>App</th>\n",
       "      <th>Category</th>\n",
       "      <th>Rating</th>\n",
       "      <th>Reviews</th>\n",
       "      <th>Size</th>\n",
       "      <th>Install</th>\n",
       "      <th>Type</th>\n",
       "      <th>Price</th>\n",
       "      <th>Content_Rating</th>\n",
       "      <th>Genres</th>\n",
       "      <th>Last_Updated</th>\n",
       "    </tr>\n",
       "  </thead>\n",
       "  <tbody>\n",
       "    <tr>\n",
       "      <th>19</th>\n",
       "      <td>ibis Paint X</td>\n",
       "      <td>ART_AND_DESIGN</td>\n",
       "      <td>4.6</td>\n",
       "      <td>224399</td>\n",
       "      <td>31</td>\n",
       "      <td>10000000</td>\n",
       "      <td>Free</td>\n",
       "      <td>0.0</td>\n",
       "      <td>Everyone</td>\n",
       "      <td>Art &amp; Design</td>\n",
       "      <td>07/30/18</td>\n",
       "    </tr>\n",
       "  </tbody>\n",
       "</table>\n",
       "</div>"
      ],
      "text/plain": [
       "             App        Category  Rating  Reviews Size   Install  Type  Price  \\\n",
       "19  ibis Paint X  ART_AND_DESIGN     4.6   224399   31  10000000  Free    0.0   \n",
       "\n",
       "   Content_Rating        Genres Last_Updated  \n",
       "19       Everyone  Art & Design     07/30/18  "
      ]
     },
     "execution_count": 411,
     "metadata": {},
     "output_type": "execute_result"
    }
   ],
   "source": [
    "gplay2.loc[(gplay2.App == \"ibis Paint X\")]"
   ]
  },
  {
   "cell_type": "markdown",
   "metadata": {},
   "source": [
    "Ternyata  Rating aplikasi ibis Paint X hanya 4.6, jadi kemungkinan kodingannya salah, akan tetapi rating terbesar tersebut bisa dipakai untuk jadi patokan melihat aplikasi dengan rating  terbesar tersebut."
   ]
  },
  {
   "cell_type": "markdown",
   "metadata": {},
   "source": [
    "### *__Jadi bagaimana cara melihat semua aplikasi dengan rating terbesar ?__*\n",
    "\n",
    "Dengan melihat patokan rating terbesar di atas, ambil kategori aplikasi dan rating terbesarnya"
   ]
  },
  {
   "cell_type": "markdown",
   "metadata": {},
   "source": [
    "1. Kategori ``ART_AND_DESIGN``"
   ]
  },
  {
   "cell_type": "code",
   "execution_count": 412,
   "metadata": {},
   "outputs": [
    {
     "data": {
      "text/html": [
       "<div>\n",
       "<style scoped>\n",
       "    .dataframe tbody tr th:only-of-type {\n",
       "        vertical-align: middle;\n",
       "    }\n",
       "\n",
       "    .dataframe tbody tr th {\n",
       "        vertical-align: top;\n",
       "    }\n",
       "\n",
       "    .dataframe thead th {\n",
       "        text-align: right;\n",
       "    }\n",
       "</style>\n",
       "<table border=\"1\" class=\"dataframe\">\n",
       "  <thead>\n",
       "    <tr style=\"text-align: right;\">\n",
       "      <th></th>\n",
       "      <th>App</th>\n",
       "      <th>Category</th>\n",
       "      <th>Rating</th>\n",
       "      <th>Reviews</th>\n",
       "      <th>Size</th>\n",
       "      <th>Install</th>\n",
       "      <th>Type</th>\n",
       "      <th>Price</th>\n",
       "      <th>Content_Rating</th>\n",
       "      <th>Genres</th>\n",
       "      <th>Last_Updated</th>\n",
       "    </tr>\n",
       "  </thead>\n",
       "  <tbody>\n",
       "    <tr>\n",
       "      <th>25</th>\n",
       "      <td>Harley Quinn wallpapers HD</td>\n",
       "      <td>ART_AND_DESIGN</td>\n",
       "      <td>4.8</td>\n",
       "      <td>192</td>\n",
       "      <td>6</td>\n",
       "      <td>10000</td>\n",
       "      <td>Free</td>\n",
       "      <td>0.0</td>\n",
       "      <td>Everyone</td>\n",
       "      <td>Art &amp; Design</td>\n",
       "      <td>04/25/18</td>\n",
       "    </tr>\n",
       "  </tbody>\n",
       "</table>\n",
       "</div>"
      ],
      "text/plain": [
       "                           App        Category  Rating  Reviews Size  Install  \\\n",
       "25  Harley Quinn wallpapers HD  ART_AND_DESIGN     4.8      192    6    10000   \n",
       "\n",
       "    Type  Price Content_Rating        Genres Last_Updated  \n",
       "25  Free    0.0       Everyone  Art & Design     04/25/18  "
      ]
     },
     "execution_count": 412,
     "metadata": {},
     "output_type": "execute_result"
    }
   ],
   "source": [
    "gplay2.loc[(gplay2.Category == \"ART_AND_DESIGN\") & (gplay2.Rating >= 4.8)]"
   ]
  },
  {
   "cell_type": "markdown",
   "metadata": {},
   "source": [
    "2. Kategori ``Communication``"
   ]
  },
  {
   "cell_type": "code",
   "execution_count": 413,
   "metadata": {},
   "outputs": [
    {
     "data": {
      "text/html": [
       "<div>\n",
       "<style scoped>\n",
       "    .dataframe tbody tr th:only-of-type {\n",
       "        vertical-align: middle;\n",
       "    }\n",
       "\n",
       "    .dataframe tbody tr th {\n",
       "        vertical-align: top;\n",
       "    }\n",
       "\n",
       "    .dataframe thead th {\n",
       "        text-align: right;\n",
       "    }\n",
       "</style>\n",
       "<table border=\"1\" class=\"dataframe\">\n",
       "  <thead>\n",
       "    <tr style=\"text-align: right;\">\n",
       "      <th></th>\n",
       "      <th>App</th>\n",
       "      <th>Category</th>\n",
       "      <th>Rating</th>\n",
       "      <th>Reviews</th>\n",
       "      <th>Size</th>\n",
       "      <th>Install</th>\n",
       "      <th>Type</th>\n",
       "      <th>Price</th>\n",
       "      <th>Content_Rating</th>\n",
       "      <th>Genres</th>\n",
       "      <th>Last_Updated</th>\n",
       "    </tr>\n",
       "  </thead>\n",
       "  <tbody>\n",
       "    <tr>\n",
       "      <th>152</th>\n",
       "      <td>Should I Answer?</td>\n",
       "      <td>COMMUNICATION</td>\n",
       "      <td>4.8</td>\n",
       "      <td>237468</td>\n",
       "      <td>8.8</td>\n",
       "      <td>1000000</td>\n",
       "      <td>Free</td>\n",
       "      <td>0.0</td>\n",
       "      <td>Everyone</td>\n",
       "      <td>Communication</td>\n",
       "      <td>07/26/18</td>\n",
       "    </tr>\n",
       "  </tbody>\n",
       "</table>\n",
       "</div>"
      ],
      "text/plain": [
       "                  App       Category  Rating  Reviews Size  Install  Type  \\\n",
       "152  Should I Answer?  COMMUNICATION     4.8   237468  8.8  1000000  Free   \n",
       "\n",
       "     Price Content_Rating         Genres Last_Updated  \n",
       "152    0.0       Everyone  Communication     07/26/18  "
      ]
     },
     "execution_count": 413,
     "metadata": {},
     "output_type": "execute_result"
    }
   ],
   "source": [
    "gplay2.loc[(gplay2.Category == \"COMMUNICATION\") & (gplay2.Rating == 4.8)]"
   ]
  },
  {
   "cell_type": "markdown",
   "metadata": {},
   "source": [
    "3. Kategori ``Education``"
   ]
  },
  {
   "cell_type": "code",
   "execution_count": 414,
   "metadata": {},
   "outputs": [
    {
     "data": {
      "text/html": [
       "<div>\n",
       "<style scoped>\n",
       "    .dataframe tbody tr th:only-of-type {\n",
       "        vertical-align: middle;\n",
       "    }\n",
       "\n",
       "    .dataframe tbody tr th {\n",
       "        vertical-align: top;\n",
       "    }\n",
       "\n",
       "    .dataframe thead th {\n",
       "        text-align: right;\n",
       "    }\n",
       "</style>\n",
       "<table border=\"1\" class=\"dataframe\">\n",
       "  <thead>\n",
       "    <tr style=\"text-align: right;\">\n",
       "      <th></th>\n",
       "      <th>App</th>\n",
       "      <th>Category</th>\n",
       "      <th>Rating</th>\n",
       "      <th>Reviews</th>\n",
       "      <th>Size</th>\n",
       "      <th>Install</th>\n",
       "      <th>Type</th>\n",
       "      <th>Price</th>\n",
       "      <th>Content_Rating</th>\n",
       "      <th>Genres</th>\n",
       "      <th>Last_Updated</th>\n",
       "    </tr>\n",
       "  </thead>\n",
       "  <tbody>\n",
       "    <tr>\n",
       "      <th>203</th>\n",
       "      <td>Learn Japanese, Korean, Chinese Offline &amp; Free</td>\n",
       "      <td>EDUCATION</td>\n",
       "      <td>4.9</td>\n",
       "      <td>133136</td>\n",
       "      <td>26</td>\n",
       "      <td>1000000</td>\n",
       "      <td>Free</td>\n",
       "      <td>0.00</td>\n",
       "      <td>Everyone</td>\n",
       "      <td>Education</td>\n",
       "      <td>07/20/18</td>\n",
       "    </tr>\n",
       "    <tr>\n",
       "      <th>342</th>\n",
       "      <td>Sago Mini Hat Maker</td>\n",
       "      <td>EDUCATION</td>\n",
       "      <td>4.9</td>\n",
       "      <td>11</td>\n",
       "      <td>63</td>\n",
       "      <td>1000</td>\n",
       "      <td>Paid</td>\n",
       "      <td>3.99</td>\n",
       "      <td>Everyone</td>\n",
       "      <td>Education</td>\n",
       "      <td>07/24/17</td>\n",
       "    </tr>\n",
       "  </tbody>\n",
       "</table>\n",
       "</div>"
      ],
      "text/plain": [
       "                                                App   Category  Rating  \\\n",
       "203  Learn Japanese, Korean, Chinese Offline & Free  EDUCATION     4.9   \n",
       "342                             Sago Mini Hat Maker  EDUCATION     4.9   \n",
       "\n",
       "     Reviews Size  Install  Type  Price Content_Rating     Genres Last_Updated  \n",
       "203   133136   26  1000000  Free   0.00       Everyone  Education     07/20/18  \n",
       "342       11   63     1000  Paid   3.99       Everyone  Education     07/24/17  "
      ]
     },
     "execution_count": 414,
     "metadata": {},
     "output_type": "execute_result"
    }
   ],
   "source": [
    "gplay2.loc[(gplay2.Category == \"EDUCATION\") & (gplay2.Rating == 4.9)]"
   ]
  },
  {
   "cell_type": "markdown",
   "metadata": {},
   "source": [
    "4. Kategori ``Game``"
   ]
  },
  {
   "cell_type": "code",
   "execution_count": 415,
   "metadata": {},
   "outputs": [
    {
     "data": {
      "text/html": [
       "<div>\n",
       "<style scoped>\n",
       "    .dataframe tbody tr th:only-of-type {\n",
       "        vertical-align: middle;\n",
       "    }\n",
       "\n",
       "    .dataframe tbody tr th {\n",
       "        vertical-align: top;\n",
       "    }\n",
       "\n",
       "    .dataframe thead th {\n",
       "        text-align: right;\n",
       "    }\n",
       "</style>\n",
       "<table border=\"1\" class=\"dataframe\">\n",
       "  <thead>\n",
       "    <tr style=\"text-align: right;\">\n",
       "      <th></th>\n",
       "      <th>App</th>\n",
       "      <th>Category</th>\n",
       "      <th>Rating</th>\n",
       "      <th>Reviews</th>\n",
       "      <th>Size</th>\n",
       "      <th>Install</th>\n",
       "      <th>Type</th>\n",
       "      <th>Price</th>\n",
       "      <th>Content_Rating</th>\n",
       "      <th>Genres</th>\n",
       "      <th>Last_Updated</th>\n",
       "    </tr>\n",
       "  </thead>\n",
       "  <tbody>\n",
       "    <tr>\n",
       "      <th>526</th>\n",
       "      <td>The Room: Old Sins</td>\n",
       "      <td>GAME</td>\n",
       "      <td>4.9</td>\n",
       "      <td>21119</td>\n",
       "      <td>48</td>\n",
       "      <td>100000</td>\n",
       "      <td>Paid</td>\n",
       "      <td>4.99</td>\n",
       "      <td>Everyone</td>\n",
       "      <td>Puzzle</td>\n",
       "      <td>04/18/18</td>\n",
       "    </tr>\n",
       "  </tbody>\n",
       "</table>\n",
       "</div>"
      ],
      "text/plain": [
       "                    App Category  Rating  Reviews Size  Install  Type  Price  \\\n",
       "526  The Room: Old Sins     GAME     4.9    21119   48   100000  Paid   4.99   \n",
       "\n",
       "    Content_Rating  Genres Last_Updated  \n",
       "526       Everyone  Puzzle     04/18/18  "
      ]
     },
     "execution_count": 415,
     "metadata": {},
     "output_type": "execute_result"
    }
   ],
   "source": [
    "gplay2.loc[(gplay2.Category == \"GAME\") & (gplay2.Rating == 4.9)]"
   ]
  },
  {
   "cell_type": "markdown",
   "metadata": {},
   "source": [
    "5. Kategori ``Shopping``"
   ]
  },
  {
   "cell_type": "code",
   "execution_count": 416,
   "metadata": {},
   "outputs": [
    {
     "data": {
      "text/html": [
       "<div>\n",
       "<style scoped>\n",
       "    .dataframe tbody tr th:only-of-type {\n",
       "        vertical-align: middle;\n",
       "    }\n",
       "\n",
       "    .dataframe tbody tr th {\n",
       "        vertical-align: top;\n",
       "    }\n",
       "\n",
       "    .dataframe thead th {\n",
       "        text-align: right;\n",
       "    }\n",
       "</style>\n",
       "<table border=\"1\" class=\"dataframe\">\n",
       "  <thead>\n",
       "    <tr style=\"text-align: right;\">\n",
       "      <th></th>\n",
       "      <th>App</th>\n",
       "      <th>Category</th>\n",
       "      <th>Rating</th>\n",
       "      <th>Reviews</th>\n",
       "      <th>Size</th>\n",
       "      <th>Install</th>\n",
       "      <th>Type</th>\n",
       "      <th>Price</th>\n",
       "      <th>Content_Rating</th>\n",
       "      <th>Genres</th>\n",
       "      <th>Last_Updated</th>\n",
       "    </tr>\n",
       "  </thead>\n",
       "  <tbody>\n",
       "    <tr>\n",
       "      <th>837</th>\n",
       "      <td>The birth</td>\n",
       "      <td>SHOPPING</td>\n",
       "      <td>4.7</td>\n",
       "      <td>1084945</td>\n",
       "      <td>Varies with device</td>\n",
       "      <td>50000000</td>\n",
       "      <td>Free</td>\n",
       "      <td>0.0</td>\n",
       "      <td>Teen</td>\n",
       "      <td>Shopping</td>\n",
       "      <td>08/03/18</td>\n",
       "    </tr>\n",
       "    <tr>\n",
       "      <th>847</th>\n",
       "      <td>Mercado Libre: Find your favorite brands</td>\n",
       "      <td>SHOPPING</td>\n",
       "      <td>4.7</td>\n",
       "      <td>3860225</td>\n",
       "      <td>Varies with device</td>\n",
       "      <td>50000000</td>\n",
       "      <td>Free</td>\n",
       "      <td>0.0</td>\n",
       "      <td>Everyone</td>\n",
       "      <td>Shopping</td>\n",
       "      <td>08/03/18</td>\n",
       "    </tr>\n",
       "    <tr>\n",
       "      <th>882</th>\n",
       "      <td>Nike</td>\n",
       "      <td>SHOPPING</td>\n",
       "      <td>4.7</td>\n",
       "      <td>67071</td>\n",
       "      <td>40</td>\n",
       "      <td>1000000</td>\n",
       "      <td>Free</td>\n",
       "      <td>0.0</td>\n",
       "      <td>Everyone</td>\n",
       "      <td>Shopping</td>\n",
       "      <td>08/01/18</td>\n",
       "    </tr>\n",
       "    <tr>\n",
       "      <th>890</th>\n",
       "      <td>Shopular: Coupons, Weekly Ads &amp; Shopping Deals</td>\n",
       "      <td>SHOPPING</td>\n",
       "      <td>4.7</td>\n",
       "      <td>57920</td>\n",
       "      <td>Varies with device</td>\n",
       "      <td>1000000</td>\n",
       "      <td>Free</td>\n",
       "      <td>0.0</td>\n",
       "      <td>Everyone</td>\n",
       "      <td>Shopping</td>\n",
       "      <td>05/31/18</td>\n",
       "    </tr>\n",
       "    <tr>\n",
       "      <th>911</th>\n",
       "      <td>Shopular: Coupons, Weekly Ads &amp; Shopping Deals</td>\n",
       "      <td>SHOPPING</td>\n",
       "      <td>4.7</td>\n",
       "      <td>57920</td>\n",
       "      <td>Varies with device</td>\n",
       "      <td>1000000</td>\n",
       "      <td>Free</td>\n",
       "      <td>0.0</td>\n",
       "      <td>Everyone</td>\n",
       "      <td>Shopping</td>\n",
       "      <td>05/31/18</td>\n",
       "    </tr>\n",
       "    <tr>\n",
       "      <th>934</th>\n",
       "      <td>ASOS</td>\n",
       "      <td>SHOPPING</td>\n",
       "      <td>4.7</td>\n",
       "      <td>181798</td>\n",
       "      <td>22</td>\n",
       "      <td>10000000</td>\n",
       "      <td>Free</td>\n",
       "      <td>0.0</td>\n",
       "      <td>Everyone</td>\n",
       "      <td>Shopping</td>\n",
       "      <td>07/30/18</td>\n",
       "    </tr>\n",
       "    <tr>\n",
       "      <th>963</th>\n",
       "      <td>ASOS</td>\n",
       "      <td>SHOPPING</td>\n",
       "      <td>4.7</td>\n",
       "      <td>181823</td>\n",
       "      <td>22</td>\n",
       "      <td>10000000</td>\n",
       "      <td>Free</td>\n",
       "      <td>0.0</td>\n",
       "      <td>Everyone</td>\n",
       "      <td>Shopping</td>\n",
       "      <td>07/30/18</td>\n",
       "    </tr>\n",
       "  </tbody>\n",
       "</table>\n",
       "</div>"
      ],
      "text/plain": [
       "                                                App  Category  Rating  \\\n",
       "837                                       The birth  SHOPPING     4.7   \n",
       "847        Mercado Libre: Find your favorite brands  SHOPPING     4.7   \n",
       "882                                            Nike  SHOPPING     4.7   \n",
       "890  Shopular: Coupons, Weekly Ads & Shopping Deals  SHOPPING     4.7   \n",
       "911  Shopular: Coupons, Weekly Ads & Shopping Deals  SHOPPING     4.7   \n",
       "934                                            ASOS  SHOPPING     4.7   \n",
       "963                                            ASOS  SHOPPING     4.7   \n",
       "\n",
       "     Reviews                Size   Install  Type  Price Content_Rating  \\\n",
       "837  1084945  Varies with device  50000000  Free    0.0           Teen   \n",
       "847  3860225  Varies with device  50000000  Free    0.0       Everyone   \n",
       "882    67071                  40   1000000  Free    0.0       Everyone   \n",
       "890    57920  Varies with device   1000000  Free    0.0       Everyone   \n",
       "911    57920  Varies with device   1000000  Free    0.0       Everyone   \n",
       "934   181798                  22  10000000  Free    0.0       Everyone   \n",
       "963   181823                  22  10000000  Free    0.0       Everyone   \n",
       "\n",
       "       Genres Last_Updated  \n",
       "837  Shopping     08/03/18  \n",
       "847  Shopping     08/03/18  \n",
       "882  Shopping     08/01/18  \n",
       "890  Shopping     05/31/18  \n",
       "911  Shopping     05/31/18  \n",
       "934  Shopping     07/30/18  \n",
       "963  Shopping     07/30/18  "
      ]
     },
     "execution_count": 416,
     "metadata": {},
     "output_type": "execute_result"
    }
   ],
   "source": [
    "gplay2.loc[(gplay2.Category == \"SHOPPING\") & (gplay2.Rating == 4.7)]"
   ]
  },
  {
   "cell_type": "markdown",
   "metadata": {},
   "source": [
    "6. Kategori ``Social``"
   ]
  },
  {
   "cell_type": "code",
   "execution_count": 417,
   "metadata": {},
   "outputs": [
    {
     "data": {
      "text/html": [
       "<div>\n",
       "<style scoped>\n",
       "    .dataframe tbody tr th:only-of-type {\n",
       "        vertical-align: middle;\n",
       "    }\n",
       "\n",
       "    .dataframe tbody tr th {\n",
       "        vertical-align: top;\n",
       "    }\n",
       "\n",
       "    .dataframe thead th {\n",
       "        text-align: right;\n",
       "    }\n",
       "</style>\n",
       "<table border=\"1\" class=\"dataframe\">\n",
       "  <thead>\n",
       "    <tr style=\"text-align: right;\">\n",
       "      <th></th>\n",
       "      <th>App</th>\n",
       "      <th>Category</th>\n",
       "      <th>Rating</th>\n",
       "      <th>Reviews</th>\n",
       "      <th>Size</th>\n",
       "      <th>Install</th>\n",
       "      <th>Type</th>\n",
       "      <th>Price</th>\n",
       "      <th>Content_Rating</th>\n",
       "      <th>Genres</th>\n",
       "      <th>Last_Updated</th>\n",
       "    </tr>\n",
       "  </thead>\n",
       "  <tbody>\n",
       "    <tr>\n",
       "      <th>734</th>\n",
       "      <td>Amino: Communities and Chats</td>\n",
       "      <td>SOCIAL</td>\n",
       "      <td>4.8</td>\n",
       "      <td>1259075</td>\n",
       "      <td>62</td>\n",
       "      <td>10000000</td>\n",
       "      <td>Free</td>\n",
       "      <td>0.0</td>\n",
       "      <td>Teen</td>\n",
       "      <td>Social</td>\n",
       "      <td>07/20/18</td>\n",
       "    </tr>\n",
       "  </tbody>\n",
       "</table>\n",
       "</div>"
      ],
      "text/plain": [
       "                              App Category  Rating  Reviews Size   Install  \\\n",
       "734  Amino: Communities and Chats   SOCIAL     4.8  1259075   62  10000000   \n",
       "\n",
       "     Type  Price Content_Rating  Genres Last_Updated  \n",
       "734  Free    0.0           Teen  Social     07/20/18  "
      ]
     },
     "execution_count": 417,
     "metadata": {},
     "output_type": "execute_result"
    }
   ],
   "source": [
    "gplay2.loc[(gplay2.Category == \"SOCIAL\") & (gplay2.Rating == 4.8)]"
   ]
  },
  {
   "cell_type": "markdown",
   "metadata": {},
   "source": [
    "**d. Distribution Plot**"
   ]
  },
  {
   "cell_type": "markdown",
   "metadata": {},
   "source": [
    "Distribution plot berdasarkan rating aplikasi"
   ]
  },
  {
   "cell_type": "code",
   "execution_count": 418,
   "metadata": {
    "scrolled": true
   },
   "outputs": [
    {
     "data": {
      "text/plain": [
       "<matplotlib.axes._subplots.AxesSubplot at 0x1a5bc0e8a58>"
      ]
     },
     "execution_count": 418,
     "metadata": {},
     "output_type": "execute_result"
    },
    {
     "data": {
      "image/png": "[encoded data removed]",
      "text/plain": [
       "<Figure size 432x288 with 1 Axes>"
      ]
     },
     "metadata": {},
     "output_type": "display_data"
    }
   ],
   "source": [
    "sns.distplot(gplay2.Rating, kde=True)"
   ]
  },
  {
   "cell_type": "markdown",
   "metadata": {},
   "source": [
    "[Go to top](#top)"
   ]
  },
  {
   "cell_type": "markdown",
   "metadata": {},
   "source": [
    "## Visualisasi"
   ]
  },
  {
   "cell_type": "markdown",
   "metadata": {},
   "source": [
    "Akan dilakukan visualisasi dari data yang digunakan agar mendapatkan insight"
   ]
  },
  {
   "cell_type": "markdown",
   "metadata": {},
   "source": [
    "### Banyaknya Aplikasi Berdasarkan Kategori"
   ]
  },
  {
   "cell_type": "code",
   "execution_count": 419,
   "metadata": {},
   "outputs": [
    {
     "data": {
      "image/png": "[encoded data removed]",
      "text/plain": [
       "<Figure size 576x432 with 1 Axes>"
      ]
     },
     "metadata": {},
     "output_type": "display_data"
    }
   ],
   "source": [
    "plt.figure(figsize=(8,6)) # https://matplotlib.org/api/_as_gen/matplotlib.pyplot.figure.html#matplotlib.pyplot.figure\n",
    "p = sns.countplot(y=\"Category\", data=gplay2)"
   ]
  },
  {
   "cell_type": "code",
   "execution_count": 420,
   "metadata": {},
   "outputs": [
    {
     "data": {
      "image/png": "[encoded data removed]",
      "text/plain": [
       "<Figure size 432x288 with 1 Axes>"
      ]
     },
     "metadata": {},
     "output_type": "display_data"
    }
   ],
   "source": [
    "p = gplay2.Category.value_counts().plot(kind='pie')"
   ]
  },
  {
   "cell_type": "markdown",
   "metadata": {},
   "source": [
    "### Banyaknya Aplikasi Berdasarkan Type(free/paid)"
   ]
  },
  {
   "cell_type": "code",
   "execution_count": 421,
   "metadata": {},
   "outputs": [
    {
     "data": {
      "text/html": [
       "<div>\n",
       "<style scoped>\n",
       "    .dataframe tbody tr th:only-of-type {\n",
       "        vertical-align: middle;\n",
       "    }\n",
       "\n",
       "    .dataframe tbody tr th {\n",
       "        vertical-align: top;\n",
       "    }\n",
       "\n",
       "    .dataframe thead th {\n",
       "        text-align: right;\n",
       "    }\n",
       "</style>\n",
       "<table border=\"1\" class=\"dataframe\">\n",
       "  <thead>\n",
       "    <tr style=\"text-align: right;\">\n",
       "      <th>Category</th>\n",
       "      <th>ART_AND_DESIGN</th>\n",
       "      <th>COMMUNICATION</th>\n",
       "      <th>EDUCATION</th>\n",
       "      <th>GAME</th>\n",
       "      <th>SHOPPING</th>\n",
       "      <th>SOCIAL</th>\n",
       "    </tr>\n",
       "    <tr>\n",
       "      <th>Type</th>\n",
       "      <th></th>\n",
       "      <th></th>\n",
       "      <th></th>\n",
       "      <th></th>\n",
       "      <th></th>\n",
       "      <th></th>\n",
       "    </tr>\n",
       "  </thead>\n",
       "  <tbody>\n",
       "    <tr>\n",
       "      <th>Free</th>\n",
       "      <td>49</td>\n",
       "      <td>140</td>\n",
       "      <td>152</td>\n",
       "      <td>352</td>\n",
       "      <td>147</td>\n",
       "      <td>110</td>\n",
       "    </tr>\n",
       "    <tr>\n",
       "      <th>Paid</th>\n",
       "      <td>0</td>\n",
       "      <td>1</td>\n",
       "      <td>4</td>\n",
       "      <td>9</td>\n",
       "      <td>0</td>\n",
       "      <td>0</td>\n",
       "    </tr>\n",
       "  </tbody>\n",
       "</table>\n",
       "</div>"
      ],
      "text/plain": [
       "Category  ART_AND_DESIGN  COMMUNICATION  EDUCATION  GAME  SHOPPING  SOCIAL\n",
       "Type                                                                      \n",
       "Free                  49            140        152   352       147     110\n",
       "Paid                   0              1          4     9         0       0"
      ]
     },
     "execution_count": 421,
     "metadata": {},
     "output_type": "execute_result"
    }
   ],
   "source": [
    "CT = pd.crosstab(index=gplay2[\"Type\"], columns=gplay2[\"Category\"])\n",
    "CT"
   ]
  },
  {
   "cell_type": "code",
   "execution_count": 422,
   "metadata": {},
   "outputs": [
    {
     "data": {
      "image/png": "[encoded data removed]",
      "text/plain": [
       "<Figure size 576x576 with 1 Axes>"
      ]
     },
     "metadata": {},
     "output_type": "display_data"
    }
   ],
   "source": [
    "p = CT.plot(kind=\"bar\", figsize=(8,8), stacked=True)"
   ]
  },
  {
   "cell_type": "markdown",
   "metadata": {},
   "source": [
    "### Jumlah aplikasi berdasarkan Konten Rating"
   ]
  },
  {
   "cell_type": "code",
   "execution_count": 423,
   "metadata": {},
   "outputs": [
    {
     "name": "stdout",
     "output_type": "stream",
     "text": [
      "Index([], dtype='object')\n"
     ]
    }
   ],
   "source": [
    "print(gplay2.select_dtypes(include = ['category']).columns)"
   ]
  },
  {
   "cell_type": "code",
   "execution_count": 424,
   "metadata": {},
   "outputs": [
    {
     "data": {
      "text/html": [
       "<div>\n",
       "<style scoped>\n",
       "    .dataframe tbody tr th:only-of-type {\n",
       "        vertical-align: middle;\n",
       "    }\n",
       "\n",
       "    .dataframe tbody tr th {\n",
       "        vertical-align: top;\n",
       "    }\n",
       "\n",
       "    .dataframe thead th {\n",
       "        text-align: right;\n",
       "    }\n",
       "</style>\n",
       "<table border=\"1\" class=\"dataframe\">\n",
       "  <thead>\n",
       "    <tr style=\"text-align: right;\">\n",
       "      <th>Content_Rating</th>\n",
       "      <th>Everyone</th>\n",
       "      <th>Everyone 10+</th>\n",
       "      <th>Mature 17+</th>\n",
       "      <th>Teen</th>\n",
       "    </tr>\n",
       "    <tr>\n",
       "      <th>Category</th>\n",
       "      <th></th>\n",
       "      <th></th>\n",
       "      <th></th>\n",
       "      <th></th>\n",
       "    </tr>\n",
       "  </thead>\n",
       "  <tbody>\n",
       "    <tr>\n",
       "      <th>ART_AND_DESIGN</th>\n",
       "      <td>45.0</td>\n",
       "      <td>1.0</td>\n",
       "      <td>NaN</td>\n",
       "      <td>3.0</td>\n",
       "    </tr>\n",
       "    <tr>\n",
       "      <th>COMMUNICATION</th>\n",
       "      <td>128.0</td>\n",
       "      <td>NaN</td>\n",
       "      <td>5.0</td>\n",
       "      <td>8.0</td>\n",
       "    </tr>\n",
       "    <tr>\n",
       "      <th>EDUCATION</th>\n",
       "      <td>144.0</td>\n",
       "      <td>8.0</td>\n",
       "      <td>3.0</td>\n",
       "      <td>1.0</td>\n",
       "    </tr>\n",
       "    <tr>\n",
       "      <th>GAME</th>\n",
       "      <td>216.0</td>\n",
       "      <td>50.0</td>\n",
       "      <td>16.0</td>\n",
       "      <td>79.0</td>\n",
       "    </tr>\n",
       "    <tr>\n",
       "      <th>SHOPPING</th>\n",
       "      <td>114.0</td>\n",
       "      <td>NaN</td>\n",
       "      <td>NaN</td>\n",
       "      <td>33.0</td>\n",
       "    </tr>\n",
       "    <tr>\n",
       "      <th>SOCIAL</th>\n",
       "      <td>35.0</td>\n",
       "      <td>1.0</td>\n",
       "      <td>38.0</td>\n",
       "      <td>36.0</td>\n",
       "    </tr>\n",
       "  </tbody>\n",
       "</table>\n",
       "</div>"
      ],
      "text/plain": [
       "Content_Rating  Everyone  Everyone 10+  Mature 17+  Teen\n",
       "Category                                                \n",
       "ART_AND_DESIGN      45.0           1.0         NaN   3.0\n",
       "COMMUNICATION      128.0           NaN         5.0   8.0\n",
       "EDUCATION          144.0           8.0         3.0   1.0\n",
       "GAME               216.0          50.0        16.0  79.0\n",
       "SHOPPING           114.0           NaN         NaN  33.0\n",
       "SOCIAL              35.0           1.0        38.0  36.0"
      ]
     },
     "execution_count": 424,
     "metadata": {},
     "output_type": "execute_result"
    },
    {
     "data": {
      "image/png": "[encoded data removed]",
      "text/plain": [
       "<Figure size 720x576 with 1 Axes>"
      ]
     },
     "metadata": {},
     "output_type": "display_data"
    }
   ],
   "source": [
    "col = 'Category'\n",
    "plt.figure(figsize=(10,8))\n",
    "ax = sns.countplot(x = col, hue = 'Content_Rating', palette = 'muted', data=gplay2)\n",
    "# Semakin mudah fungsi visualisasi, maka semakin sulit utk di kustomisasi\n",
    "# Cara diatas sdh sulit digunakan karena struktur data di ax sdh tidak memuat data\n",
    "gplay2.groupby([\"Category\", \"Content_Rating\"]).size().unstack() # Trick sederhana menghindari pemrograman yg overwhelming"
   ]
  },
  {
   "cell_type": "markdown",
   "metadata": {},
   "source": [
    "Semua Kategori cenderung lebih banyak untuk aplikasi dengan Content Rating ``Everyone``, ``kecuali`` untuk ``aplikasi social`` yang cenderung sama kecuali untuk everyone10+, jadi khusus aplikasi sosial banyak yang khusus digunakan untuk ``mereka yang sudah dewasa``"
   ]
  },
  {
   "cell_type": "markdown",
   "metadata": {},
   "source": [
    "### Game Terpopuler ?"
   ]
  },
  {
   "cell_type": "markdown",
   "metadata": {},
   "source": [
    "Saya mengasumsikan game terpopuler dilihat dari berbagai ketentuan yaitu :\n",
    "    1. Rating minimum 4.6\n",
    "    2. sudah diinstall lebih dari (atau sama dengan) 10jt kali\n",
    "    3. Direview lebih dari 100000\n",
    "    4. Urutkan berdasarkan rating terlebih dahulu, kemudian jumlah diinstall\n",
    "    \n",
    "**Akan dilihat 5 Game Terpopuler versi saya**"
   ]
  },
  {
   "cell_type": "code",
   "execution_count": 425,
   "metadata": {},
   "outputs": [
    {
     "data": {
      "text/html": [
       "<div>\n",
       "<style scoped>\n",
       "    .dataframe tbody tr th:only-of-type {\n",
       "        vertical-align: middle;\n",
       "    }\n",
       "\n",
       "    .dataframe tbody tr th {\n",
       "        vertical-align: top;\n",
       "    }\n",
       "\n",
       "    .dataframe thead th {\n",
       "        text-align: right;\n",
       "    }\n",
       "</style>\n",
       "<table border=\"1\" class=\"dataframe\">\n",
       "  <thead>\n",
       "    <tr style=\"text-align: right;\">\n",
       "      <th></th>\n",
       "      <th>App</th>\n",
       "      <th>Rating</th>\n",
       "      <th>Install</th>\n",
       "      <th>Type</th>\n",
       "      <th>Genres</th>\n",
       "    </tr>\n",
       "  </thead>\n",
       "  <tbody>\n",
       "    <tr>\n",
       "      <th>407</th>\n",
       "      <td>Wordscapes</td>\n",
       "      <td>4.8</td>\n",
       "      <td>10000000</td>\n",
       "      <td>Free</td>\n",
       "      <td>Word</td>\n",
       "    </tr>\n",
       "    <tr>\n",
       "      <th>513</th>\n",
       "      <td>Cash, Inc. Money Clicker Game &amp; Business Adven...</td>\n",
       "      <td>4.8</td>\n",
       "      <td>10000000</td>\n",
       "      <td>Free</td>\n",
       "      <td>Simulation</td>\n",
       "    </tr>\n",
       "    <tr>\n",
       "      <th>370</th>\n",
       "      <td>Bubble Witch 3 Saga</td>\n",
       "      <td>4.7</td>\n",
       "      <td>50000000</td>\n",
       "      <td>Free</td>\n",
       "      <td>Puzzle</td>\n",
       "    </tr>\n",
       "    <tr>\n",
       "      <th>615</th>\n",
       "      <td>Bowmasters</td>\n",
       "      <td>4.7</td>\n",
       "      <td>50000000</td>\n",
       "      <td>Free</td>\n",
       "      <td>Action</td>\n",
       "    </tr>\n",
       "    <tr>\n",
       "      <th>632</th>\n",
       "      <td>CATS: Crash Arena Turbo Stars</td>\n",
       "      <td>4.7</td>\n",
       "      <td>50000000</td>\n",
       "      <td>Free</td>\n",
       "      <td>Action</td>\n",
       "    </tr>\n",
       "  </tbody>\n",
       "</table>\n",
       "</div>"
      ],
      "text/plain": [
       "                                                   App  Rating   Install  \\\n",
       "407                                         Wordscapes     4.8  10000000   \n",
       "513  Cash, Inc. Money Clicker Game & Business Adven...     4.8  10000000   \n",
       "370                                Bubble Witch 3 Saga     4.7  50000000   \n",
       "615                                         Bowmasters     4.7  50000000   \n",
       "632                      CATS: Crash Arena Turbo Stars     4.7  50000000   \n",
       "\n",
       "     Type      Genres  \n",
       "407  Free        Word  \n",
       "513  Free  Simulation  \n",
       "370  Free      Puzzle  \n",
       "615  Free      Action  \n",
       "632  Free      Action  "
      ]
     },
     "execution_count": 425,
     "metadata": {},
     "output_type": "execute_result"
    }
   ],
   "source": [
    "game = gplay2.loc[(gplay2.Category == \"GAME\") & (gplay2.Rating >= 4.6) & (gplay2.Install >= 10000000) & (gplay2.Reviews >= 100000)]\n",
    "top_game = game.sort_values('Install', ascending=0).sort_values('Rating', ascending=0).drop_duplicates('App')\n",
    "top_5_game = top_game[['App','Rating','Install','Type','Genres']]\n",
    "top_5_game.head(5)"
   ]
  },
  {
   "cell_type": "markdown",
   "metadata": {},
   "source": [
    "Di atas hanya terlihat game dengan ``type free`` atau gratis, jadi akan dicoba **``Game Terpopuler Berbayar``**"
   ]
  },
  {
   "cell_type": "code",
   "execution_count": 426,
   "metadata": {},
   "outputs": [
    {
     "data": {
      "text/html": [
       "<div>\n",
       "<style scoped>\n",
       "    .dataframe tbody tr th:only-of-type {\n",
       "        vertical-align: middle;\n",
       "    }\n",
       "\n",
       "    .dataframe tbody tr th {\n",
       "        vertical-align: top;\n",
       "    }\n",
       "\n",
       "    .dataframe thead th {\n",
       "        text-align: right;\n",
       "    }\n",
       "</style>\n",
       "<table border=\"1\" class=\"dataframe\">\n",
       "  <thead>\n",
       "    <tr style=\"text-align: right;\">\n",
       "      <th></th>\n",
       "      <th>App</th>\n",
       "      <th>Rating</th>\n",
       "      <th>Install</th>\n",
       "      <th>Type</th>\n",
       "      <th>Genres</th>\n",
       "    </tr>\n",
       "  </thead>\n",
       "  <tbody>\n",
       "  </tbody>\n",
       "</table>\n",
       "</div>"
      ],
      "text/plain": [
       "Empty DataFrame\n",
       "Columns: [App, Rating, Install, Type, Genres]\n",
       "Index: []"
      ]
     },
     "execution_count": 426,
     "metadata": {},
     "output_type": "execute_result"
    }
   ],
   "source": [
    "game = gplay2.loc[(gplay2.Type == \"Paid\") & (gplay2.Category == \"GAME\") & (gplay2.Rating >= 4.6) & (gplay2.Install >= 10000000) & (gplay2.Reviews >= 100000)]\n",
    "top_paidgame = game.sort_values('Install', ascending=0).sort_values('Rating', ascending=0).drop_duplicates('App')\n",
    "top_5_paidgame = top_paidgame[['App','Rating','Install','Type','Genres']]\n",
    "top_5_paidgame.head(5)"
   ]
  },
  {
   "cell_type": "markdown",
   "metadata": {},
   "source": [
    "Ternyata tidak muncul, kemungkinan terlalu besar antara rating/install/rivewnya, maka ketentuannya akan saya kecilkan menjadi :\n",
    "    1. Rating minimum 4.4\n",
    "    2. sudah diinstall lebih dari (atau sama dengan) 100rb kali\n",
    "    3. Direview lebih dari 10000\n",
    "    4. Urutkan berdasarkan rating terlebih dahulu, kemudian jumlah diinstall\n",
    "    \n",
    "**Akan dilihat 5 Game Berbayar Terpopuler versi saya**"
   ]
  },
  {
   "cell_type": "code",
   "execution_count": 427,
   "metadata": {},
   "outputs": [
    {
     "data": {
      "text/html": [
       "<div>\n",
       "<style scoped>\n",
       "    .dataframe tbody tr th:only-of-type {\n",
       "        vertical-align: middle;\n",
       "    }\n",
       "\n",
       "    .dataframe tbody tr th {\n",
       "        vertical-align: top;\n",
       "    }\n",
       "\n",
       "    .dataframe thead th {\n",
       "        text-align: right;\n",
       "    }\n",
       "</style>\n",
       "<table border=\"1\" class=\"dataframe\">\n",
       "  <thead>\n",
       "    <tr style=\"text-align: right;\">\n",
       "      <th></th>\n",
       "      <th>App</th>\n",
       "      <th>Rating</th>\n",
       "      <th>Install</th>\n",
       "      <th>Type</th>\n",
       "      <th>Genres</th>\n",
       "    </tr>\n",
       "  </thead>\n",
       "  <tbody>\n",
       "    <tr>\n",
       "      <th>526</th>\n",
       "      <td>The Room: Old Sins</td>\n",
       "      <td>4.9</td>\n",
       "      <td>100000</td>\n",
       "      <td>Paid</td>\n",
       "      <td>Puzzle</td>\n",
       "    </tr>\n",
       "    <tr>\n",
       "      <th>525</th>\n",
       "      <td>Clue</td>\n",
       "      <td>4.6</td>\n",
       "      <td>100000</td>\n",
       "      <td>Paid</td>\n",
       "      <td>Board</td>\n",
       "    </tr>\n",
       "    <tr>\n",
       "      <th>529</th>\n",
       "      <td>RollerCoaster Tycoon® Classic</td>\n",
       "      <td>4.6</td>\n",
       "      <td>100000</td>\n",
       "      <td>Paid</td>\n",
       "      <td>Simulation</td>\n",
       "    </tr>\n",
       "    <tr>\n",
       "      <th>528</th>\n",
       "      <td>Farming Simulator 18</td>\n",
       "      <td>4.5</td>\n",
       "      <td>100000</td>\n",
       "      <td>Paid</td>\n",
       "      <td>Simulation</td>\n",
       "    </tr>\n",
       "    <tr>\n",
       "      <th>531</th>\n",
       "      <td>Star Wars ™: DIRTY</td>\n",
       "      <td>4.5</td>\n",
       "      <td>100000</td>\n",
       "      <td>Paid</td>\n",
       "      <td>Role Playing</td>\n",
       "    </tr>\n",
       "  </tbody>\n",
       "</table>\n",
       "</div>"
      ],
      "text/plain": [
       "                               App  Rating  Install  Type        Genres\n",
       "526             The Room: Old Sins     4.9   100000  Paid        Puzzle\n",
       "525                           Clue     4.6   100000  Paid         Board\n",
       "529  RollerCoaster Tycoon® Classic     4.6   100000  Paid    Simulation\n",
       "528           Farming Simulator 18     4.5   100000  Paid    Simulation\n",
       "531             Star Wars ™: DIRTY     4.5   100000  Paid  Role Playing"
      ]
     },
     "execution_count": 427,
     "metadata": {},
     "output_type": "execute_result"
    }
   ],
   "source": [
    "game = gplay2.loc[(gplay2.Type == \"Paid\") & (gplay2.Category == \"GAME\") & (gplay2.Rating >= 4.4) & (gplay2.Install >= 100000) & (gplay2.Reviews >= 10000)]\n",
    "top_paidgame = game.sort_values('Install', ascending=0).sort_values('Rating', ascending=0).drop_duplicates('App')\n",
    "top_5_paidgame = top_paidgame[['App','Rating','Install','Type','Genres']]\n",
    "top_5_paidgame.head(5)"
   ]
  },
  {
   "cell_type": "markdown",
   "metadata": {},
   "source": [
    "**Visualisasi Top Game Berdasarkan Rating**"
   ]
  },
  {
   "cell_type": "code",
   "execution_count": 428,
   "metadata": {},
   "outputs": [
    {
     "data": {
      "image/png": "[encoded data removed]",
      "text/plain": [
       "<Figure size 720x720 with 1 Axes>"
      ]
     },
     "metadata": {},
     "output_type": "display_data"
    }
   ],
   "source": [
    "fig, ax = plt.subplots(figsize=(10, 10))\n",
    "ax.plot(top_game['Rating'],\n",
    "        top_game['App'],\n",
    "        color='purple')\n",
    "ax.set(xlabel=\"Rating\",\n",
    "       ylabel=\"App Name\",\n",
    "       title=\"Game Terpopuler\")\n",
    "plt.xticks(rotation=90)\n",
    "plt.show()"
   ]
  },
  {
   "cell_type": "markdown",
   "metadata": {},
   "source": [
    "### Kalian masih tidak suka dengan game tersebut karena tidak tertarik dengan genrenya ?"
   ]
  },
  {
   "cell_type": "markdown",
   "metadata": {},
   "source": [
    "Oke oke akan saya coba dengan genre yang spesifik, misalnya genre strategy karena menurut saya ini genre yang cukup populer, tapi masih sama ketentuannya dengan game populer sebelumnya (yang free)\n",
    "\n",
    "**Akan dilihat 5 Game Strategi terpopuler versi saya**"
   ]
  },
  {
   "cell_type": "code",
   "execution_count": 429,
   "metadata": {},
   "outputs": [
    {
     "data": {
      "text/html": [
       "<div>\n",
       "<style scoped>\n",
       "    .dataframe tbody tr th:only-of-type {\n",
       "        vertical-align: middle;\n",
       "    }\n",
       "\n",
       "    .dataframe tbody tr th {\n",
       "        vertical-align: top;\n",
       "    }\n",
       "\n",
       "    .dataframe thead th {\n",
       "        text-align: right;\n",
       "    }\n",
       "</style>\n",
       "<table border=\"1\" class=\"dataframe\">\n",
       "  <thead>\n",
       "    <tr style=\"text-align: right;\">\n",
       "      <th></th>\n",
       "      <th>App</th>\n",
       "      <th>Rating</th>\n",
       "      <th>Install</th>\n",
       "      <th>Type</th>\n",
       "      <th>Genres</th>\n",
       "    </tr>\n",
       "  </thead>\n",
       "  <tbody>\n",
       "    <tr>\n",
       "      <th>353</th>\n",
       "      <td>Clash Royale</td>\n",
       "      <td>4.6</td>\n",
       "      <td>100000000</td>\n",
       "      <td>Free</td>\n",
       "      <td>Strategy</td>\n",
       "    </tr>\n",
       "    <tr>\n",
       "      <th>363</th>\n",
       "      <td>Clash of Clans</td>\n",
       "      <td>4.6</td>\n",
       "      <td>100000000</td>\n",
       "      <td>Free</td>\n",
       "      <td>Strategy</td>\n",
       "    </tr>\n",
       "    <tr>\n",
       "      <th>483</th>\n",
       "      <td>Castle Clash: Heroes of the Empire US</td>\n",
       "      <td>4.6</td>\n",
       "      <td>50000000</td>\n",
       "      <td>Free</td>\n",
       "      <td>Strategy</td>\n",
       "    </tr>\n",
       "    <tr>\n",
       "      <th>691</th>\n",
       "      <td>Stick War: Legacy</td>\n",
       "      <td>4.6</td>\n",
       "      <td>10000000</td>\n",
       "      <td>Free</td>\n",
       "      <td>Strategy</td>\n",
       "    </tr>\n",
       "  </tbody>\n",
       "</table>\n",
       "</div>"
      ],
      "text/plain": [
       "                                       App  Rating    Install  Type    Genres\n",
       "353                           Clash Royale     4.6  100000000  Free  Strategy\n",
       "363                         Clash of Clans     4.6  100000000  Free  Strategy\n",
       "483  Castle Clash: Heroes of the Empire US     4.6   50000000  Free  Strategy\n",
       "691                      Stick War: Legacy     4.6   10000000  Free  Strategy"
      ]
     },
     "execution_count": 429,
     "metadata": {},
     "output_type": "execute_result"
    }
   ],
   "source": [
    "strgame = gplay2.loc[(gplay2.Category == \"GAME\") & (gplay2.Rating >= 4.6) & (gplay2.Install >= 10000000) & (gplay2.Reviews >= 100000) & (gplay2.Genres == \"Strategy\")]\n",
    "top_strgame = strgame.sort_values('Install', ascending=0).sort_values('Rating', ascending=0).drop_duplicates('App')\n",
    "top_5_strgame = top_strgame[['App','Rating','Install','Type','Genres']]\n",
    "top_5_strgame.head(5)"
   ]
  },
  {
   "cell_type": "markdown",
   "metadata": {},
   "source": [
    "Ternyata hanya ada 4 saja gamenya (dengan ketentuan yang sama)"
   ]
  },
  {
   "cell_type": "markdown",
   "metadata": {},
   "source": [
    "### Mau Game Yang Terupdate ? Boleh dicoba nih"
   ]
  },
  {
   "cell_type": "markdown",
   "metadata": {},
   "source": [
    "Di sini akan ditampilkan top game terupdate untuk kalian yang suka game terupdate"
   ]
  },
  {
   "cell_type": "code",
   "execution_count": 430,
   "metadata": {},
   "outputs": [
    {
     "data": {
      "image/png": "[encoded data removed]",
      "text/plain": [
       "<Figure size 720x720 with 1 Axes>"
      ]
     },
     "metadata": {},
     "output_type": "display_data"
    }
   ],
   "source": [
    "fig, ax = plt.subplots(figsize=(10, 10))\n",
    "top_game_updated = top_game.sort_values('Last_Updated', ascending=0)\n",
    "ax.plot(top_game_updated['Last_Updated'],\n",
    "        top_game_updated['App'],\n",
    "        color='purple')\n",
    "ax.set(xlabel=\"Date\",\n",
    "       ylabel=\"App Name\",\n",
    "       title=\"Top Game Terupdate\")\n",
    "plt.xticks(rotation=90)\n",
    "plt.show()"
   ]
  },
  {
   "cell_type": "markdown",
   "metadata": {},
   "source": [
    "#### Pengen Liat 5 Teratas Aja?"
   ]
  },
  {
   "cell_type": "code",
   "execution_count": 432,
   "metadata": {},
   "outputs": [
    {
     "data": {
      "text/html": [
       "<div>\n",
       "<style scoped>\n",
       "    .dataframe tbody tr th:only-of-type {\n",
       "        vertical-align: middle;\n",
       "    }\n",
       "\n",
       "    .dataframe tbody tr th {\n",
       "        vertical-align: top;\n",
       "    }\n",
       "\n",
       "    .dataframe thead th {\n",
       "        text-align: right;\n",
       "    }\n",
       "</style>\n",
       "<table border=\"1\" class=\"dataframe\">\n",
       "  <thead>\n",
       "    <tr style=\"text-align: right;\">\n",
       "      <th></th>\n",
       "      <th>App</th>\n",
       "      <th>Rating</th>\n",
       "      <th>Install</th>\n",
       "      <th>Type</th>\n",
       "      <th>Genres</th>\n",
       "      <th>Last_Updated</th>\n",
       "    </tr>\n",
       "  </thead>\n",
       "  <tbody>\n",
       "    <tr>\n",
       "      <th>389</th>\n",
       "      <td>Geometry Dash World</td>\n",
       "      <td>4.6</td>\n",
       "      <td>10000000</td>\n",
       "      <td>Free</td>\n",
       "      <td>Arcade</td>\n",
       "      <td>12/22/17</td>\n",
       "    </tr>\n",
       "    <tr>\n",
       "      <th>480</th>\n",
       "      <td>Hello Stars</td>\n",
       "      <td>4.6</td>\n",
       "      <td>10000000</td>\n",
       "      <td>Free</td>\n",
       "      <td>Puzzle</td>\n",
       "      <td>08/04/18</td>\n",
       "    </tr>\n",
       "    <tr>\n",
       "      <th>456</th>\n",
       "      <td>Piano Tiles 2™</td>\n",
       "      <td>4.7</td>\n",
       "      <td>100000000</td>\n",
       "      <td>Free</td>\n",
       "      <td>Arcade</td>\n",
       "      <td>08/03/18</td>\n",
       "    </tr>\n",
       "    <tr>\n",
       "      <th>690</th>\n",
       "      <td>1LINE – One Line with One Touch</td>\n",
       "      <td>4.6</td>\n",
       "      <td>10000000</td>\n",
       "      <td>Free</td>\n",
       "      <td>Board</td>\n",
       "      <td>08/03/18</td>\n",
       "    </tr>\n",
       "    <tr>\n",
       "      <th>630</th>\n",
       "      <td>Cover Fire: offline shooting games for free</td>\n",
       "      <td>4.7</td>\n",
       "      <td>10000000</td>\n",
       "      <td>Free</td>\n",
       "      <td>Action</td>\n",
       "      <td>08/03/18</td>\n",
       "    </tr>\n",
       "  </tbody>\n",
       "</table>\n",
       "</div>"
      ],
      "text/plain": [
       "                                             App  Rating    Install  Type  \\\n",
       "389                          Geometry Dash World     4.6   10000000  Free   \n",
       "480                                  Hello Stars     4.6   10000000  Free   \n",
       "456                               Piano Tiles 2™     4.7  100000000  Free   \n",
       "690              1LINE – One Line with One Touch     4.6   10000000  Free   \n",
       "630  Cover Fire: offline shooting games for free     4.7   10000000  Free   \n",
       "\n",
       "     Genres Last_Updated  \n",
       "389  Arcade     12/22/17  \n",
       "480  Puzzle     08/04/18  \n",
       "456  Arcade     08/03/18  \n",
       "690   Board     08/03/18  \n",
       "630  Action     08/03/18  "
      ]
     },
     "execution_count": 432,
     "metadata": {},
     "output_type": "execute_result"
    }
   ],
   "source": [
    "top_5_game_updated = top_game_updated[['App','Rating','Install','Type','Genres','Last_Updated']]\n",
    "top_5_game_updated.head()"
   ]
  },
  {
   "cell_type": "markdown",
   "metadata": {},
   "source": [
    "Np : Tanggalnya belum terurut dari yang terbaru, sudah saya coba urutkan akan tetapi belum menemukan code yang pas"
   ]
  },
  {
   "cell_type": "markdown",
   "metadata": {},
   "source": [
    "### Anda Sultan? Wajib beli game ini"
   ]
  },
  {
   "cell_type": "markdown",
   "metadata": {},
   "source": [
    "5 Game dengan biaya install yang paling mahal akan ditampilkan di sini, yang pastinya terpopuler"
   ]
  },
  {
   "cell_type": "code",
   "execution_count": 434,
   "metadata": {},
   "outputs": [
    {
     "data": {
      "text/html": [
       "<div>\n",
       "<style scoped>\n",
       "    .dataframe tbody tr th:only-of-type {\n",
       "        vertical-align: middle;\n",
       "    }\n",
       "\n",
       "    .dataframe tbody tr th {\n",
       "        vertical-align: top;\n",
       "    }\n",
       "\n",
       "    .dataframe thead th {\n",
       "        text-align: right;\n",
       "    }\n",
       "</style>\n",
       "<table border=\"1\" class=\"dataframe\">\n",
       "  <thead>\n",
       "    <tr style=\"text-align: right;\">\n",
       "      <th></th>\n",
       "      <th>App</th>\n",
       "      <th>Rating</th>\n",
       "      <th>Install</th>\n",
       "      <th>Price</th>\n",
       "      <th>Genres</th>\n",
       "    </tr>\n",
       "  </thead>\n",
       "  <tbody>\n",
       "    <tr>\n",
       "      <th>531</th>\n",
       "      <td>Star Wars ™: DIRTY</td>\n",
       "      <td>4.5</td>\n",
       "      <td>100000</td>\n",
       "      <td>9.99</td>\n",
       "      <td>Role Playing</td>\n",
       "    </tr>\n",
       "    <tr>\n",
       "      <th>529</th>\n",
       "      <td>RollerCoaster Tycoon® Classic</td>\n",
       "      <td>4.6</td>\n",
       "      <td>100000</td>\n",
       "      <td>5.99</td>\n",
       "      <td>Simulation</td>\n",
       "    </tr>\n",
       "    <tr>\n",
       "      <th>526</th>\n",
       "      <td>The Room: Old Sins</td>\n",
       "      <td>4.9</td>\n",
       "      <td>100000</td>\n",
       "      <td>4.99</td>\n",
       "      <td>Puzzle</td>\n",
       "    </tr>\n",
       "    <tr>\n",
       "      <th>528</th>\n",
       "      <td>Farming Simulator 18</td>\n",
       "      <td>4.5</td>\n",
       "      <td>100000</td>\n",
       "      <td>4.99</td>\n",
       "      <td>Simulation</td>\n",
       "    </tr>\n",
       "    <tr>\n",
       "      <th>524</th>\n",
       "      <td>The Game of Life</td>\n",
       "      <td>4.4</td>\n",
       "      <td>100000</td>\n",
       "      <td>2.99</td>\n",
       "      <td>Board</td>\n",
       "    </tr>\n",
       "  </tbody>\n",
       "</table>\n",
       "</div>"
      ],
      "text/plain": [
       "                               App  Rating  Install  Price        Genres\n",
       "531             Star Wars ™: DIRTY     4.5   100000   9.99  Role Playing\n",
       "529  RollerCoaster Tycoon® Classic     4.6   100000   5.99    Simulation\n",
       "526             The Room: Old Sins     4.9   100000   4.99        Puzzle\n",
       "528           Farming Simulator 18     4.5   100000   4.99    Simulation\n",
       "524               The Game of Life     4.4   100000   2.99         Board"
      ]
     },
     "execution_count": 434,
     "metadata": {},
     "output_type": "execute_result"
    }
   ],
   "source": [
    "game = gplay2.loc[(gplay2.Type == \"Paid\") & (gplay2.Category == \"GAME\") & (gplay2.Rating >= 4.4) & (gplay2.Install >= 100000) & (gplay2.Reviews >= 10000)]\n",
    "top_sultangame = game.sort_values('Price', ascending=0).drop_duplicates('App')\n",
    "top_5_sultangame = top_sultangame[['App','Rating','Install','Price','Genres']]\n",
    "top_5_sultangame.head(5)"
   ]
  },
  {
   "cell_type": "markdown",
   "metadata": {},
   "source": [
    "*Ternyata Gamenya gak mahal-mahal amat ya(?)*"
   ]
  },
  {
   "cell_type": "markdown",
   "metadata": {},
   "source": [
    "### Tempat Belanja Online Terpercaya ?"
   ]
  },
  {
   "cell_type": "markdown",
   "metadata": {},
   "source": [
    "Kaum milenials jaman sekarang lebih suka belanja online daripada belanja langsung ke tokonya, akan tetapi masih banyak juga yang ragu apakah aplikasi ini penipu atau bukan, maka dari itu akan saya coba untuk menampilkan aplikasi belanja online terpercaya berdasarkan berbagai ketentuan berikut ini :\n",
    "    1. Rating minimum 4.5\n",
    "    2. sudah diinstall lebih dari (atau sama dengan) 10jt kali\n",
    "    3. Direview lebih dari 500rb orang\n",
    "    4. Urutkan berdasarkan jumlah diinstall dan jumlah reviews (rating tidak perlu, karena rating 4.5 menurut saya sudah sangat bagus apalagi jika sudah banyak yang install dan review, karena sudah banyak orang yang menggunakannya jadi orang lain akan menganggap aplikasi tersebut terpercaya)\n",
    "    \n",
    "**Akan dilihat 5 Aplikasi Shopping Terpercaya versi saya**"
   ]
  },
  {
   "cell_type": "code",
   "execution_count": 154,
   "metadata": {},
   "outputs": [
    {
     "data": {
      "text/html": [
       "<div>\n",
       "<style scoped>\n",
       "    .dataframe tbody tr th:only-of-type {\n",
       "        vertical-align: middle;\n",
       "    }\n",
       "\n",
       "    .dataframe tbody tr th {\n",
       "        vertical-align: top;\n",
       "    }\n",
       "\n",
       "    .dataframe thead th {\n",
       "        text-align: right;\n",
       "    }\n",
       "</style>\n",
       "<table border=\"1\" class=\"dataframe\">\n",
       "  <thead>\n",
       "    <tr style=\"text-align: right;\">\n",
       "      <th></th>\n",
       "      <th>App</th>\n",
       "      <th>Rating</th>\n",
       "      <th>Install</th>\n",
       "      <th>Type</th>\n",
       "      <th>Reviews</th>\n",
       "    </tr>\n",
       "  </thead>\n",
       "  <tbody>\n",
       "    <tr>\n",
       "      <th>959</th>\n",
       "      <td>Wish - Shopping Made Fun</td>\n",
       "      <td>4.5</td>\n",
       "      <td>100000000</td>\n",
       "      <td>Free</td>\n",
       "      <td>6212081</td>\n",
       "    </tr>\n",
       "    <tr>\n",
       "      <th>953</th>\n",
       "      <td>AliExpress - Smarter Shopping, Better Living</td>\n",
       "      <td>4.6</td>\n",
       "      <td>100000000</td>\n",
       "      <td>Free</td>\n",
       "      <td>5917485</td>\n",
       "    </tr>\n",
       "    <tr>\n",
       "      <th>847</th>\n",
       "      <td>Mercado Libre: Find your favorite brands</td>\n",
       "      <td>4.7</td>\n",
       "      <td>50000000</td>\n",
       "      <td>Free</td>\n",
       "      <td>3860225</td>\n",
       "    </tr>\n",
       "    <tr>\n",
       "      <th>879</th>\n",
       "      <td>Groupon - Shop Deals, Discounts &amp; Coupons</td>\n",
       "      <td>4.6</td>\n",
       "      <td>50000000</td>\n",
       "      <td>Free</td>\n",
       "      <td>1370749</td>\n",
       "    </tr>\n",
       "    <tr>\n",
       "      <th>837</th>\n",
       "      <td>The birth</td>\n",
       "      <td>4.7</td>\n",
       "      <td>50000000</td>\n",
       "      <td>Free</td>\n",
       "      <td>1084945</td>\n",
       "    </tr>\n",
       "  </tbody>\n",
       "</table>\n",
       "</div>"
      ],
      "text/plain": [
       "                                              App  Rating    Install  Type  \\\n",
       "959                      Wish - Shopping Made Fun     4.5  100000000  Free   \n",
       "953  AliExpress - Smarter Shopping, Better Living     4.6  100000000  Free   \n",
       "847      Mercado Libre: Find your favorite brands     4.7   50000000  Free   \n",
       "879     Groupon - Shop Deals, Discounts & Coupons     4.6   50000000  Free   \n",
       "837                                     The birth     4.7   50000000  Free   \n",
       "\n",
       "     Reviews  \n",
       "959  6212081  \n",
       "953  5917485  \n",
       "847  3860225  \n",
       "879  1370749  \n",
       "837  1084945  "
      ]
     },
     "execution_count": 154,
     "metadata": {},
     "output_type": "execute_result"
    }
   ],
   "source": [
    "shop = gplay2.loc[(gplay2.Category == \"SHOPPING\") & (gplay2.Rating >= 4.5) & (gplay2.Install >= 10000000) & (gplay2.Reviews >= 500000)]\n",
    "top_shop = shop.sort_values('Install', ascending=0).sort_values('Reviews', ascending=0).drop_duplicates('App')\n",
    "top_5_shop = top_shop[['App','Rating','Install','Type','Reviews']]\n",
    "top_5_shop.head(5)"
   ]
  },
  {
   "cell_type": "markdown",
   "metadata": {},
   "source": [
    "### Aplikasi Untuk Gambar/Design Terbaik"
   ]
  },
  {
   "cell_type": "markdown",
   "metadata": {},
   "source": [
    "Sekarang kalau ingin gambar atau design tidak perlu di kertas atau komputer, kita bisa melakukannya di smartphone kita, maka dari itu boleh dicoba aplikasi terbaik untuk kalian yang suka design atau gambar ini yang akan ditampilkan berdasarkan :\n",
    "    1. Rating minimum 4.4\n",
    "    2. Sudah diinstall lebih dari (atau sama dengan) 1jt kali\n",
    "    3. Direview lebih dari 50rb orang\n",
    "    4. Urutkan berdasarkan jumlah diinstall, rating dan jumlah reviews\n",
    "    \n",
    "**Akan dilihat 5 Aplikasi Gambar/Design terbaik versi saya**"
   ]
  },
  {
   "cell_type": "code",
   "execution_count": 174,
   "metadata": {},
   "outputs": [
    {
     "data": {
      "text/html": [
       "<div>\n",
       "<style scoped>\n",
       "    .dataframe tbody tr th:only-of-type {\n",
       "        vertical-align: middle;\n",
       "    }\n",
       "\n",
       "    .dataframe tbody tr th {\n",
       "        vertical-align: top;\n",
       "    }\n",
       "\n",
       "    .dataframe thead th {\n",
       "        text-align: right;\n",
       "    }\n",
       "</style>\n",
       "<table border=\"1\" class=\"dataframe\">\n",
       "  <thead>\n",
       "    <tr style=\"text-align: right;\">\n",
       "      <th></th>\n",
       "      <th>App</th>\n",
       "      <th>Rating</th>\n",
       "      <th>Install</th>\n",
       "      <th>Type</th>\n",
       "      <th>Reviews</th>\n",
       "    </tr>\n",
       "  </thead>\n",
       "  <tbody>\n",
       "    <tr>\n",
       "      <th>45</th>\n",
       "      <td>Canva: Poster, banner, card maker &amp; graphic de...</td>\n",
       "      <td>4.7</td>\n",
       "      <td>10000000</td>\n",
       "      <td>Free</td>\n",
       "      <td>174531</td>\n",
       "    </tr>\n",
       "    <tr>\n",
       "      <th>2</th>\n",
       "      <td>U Launcher Lite – FREE Live Cool Themes, Hide ...</td>\n",
       "      <td>4.7</td>\n",
       "      <td>5000000</td>\n",
       "      <td>Free</td>\n",
       "      <td>87510</td>\n",
       "    </tr>\n",
       "    <tr>\n",
       "      <th>19</th>\n",
       "      <td>ibis Paint X</td>\n",
       "      <td>4.6</td>\n",
       "      <td>10000000</td>\n",
       "      <td>Free</td>\n",
       "      <td>224399</td>\n",
       "    </tr>\n",
       "    <tr>\n",
       "      <th>3</th>\n",
       "      <td>Sketch - Draw &amp; Paint</td>\n",
       "      <td>4.5</td>\n",
       "      <td>50000000</td>\n",
       "      <td>Free</td>\n",
       "      <td>215644</td>\n",
       "    </tr>\n",
       "    <tr>\n",
       "      <th>42</th>\n",
       "      <td>Textgram - write on photos</td>\n",
       "      <td>4.4</td>\n",
       "      <td>10000000</td>\n",
       "      <td>Free</td>\n",
       "      <td>295221</td>\n",
       "    </tr>\n",
       "  </tbody>\n",
       "</table>\n",
       "</div>"
      ],
      "text/plain": [
       "                                                  App  Rating   Install  Type  \\\n",
       "45  Canva: Poster, banner, card maker & graphic de...     4.7  10000000  Free   \n",
       "2   U Launcher Lite – FREE Live Cool Themes, Hide ...     4.7   5000000  Free   \n",
       "19                                       ibis Paint X     4.6  10000000  Free   \n",
       "3                               Sketch - Draw & Paint     4.5  50000000  Free   \n",
       "42                         Textgram - write on photos     4.4  10000000  Free   \n",
       "\n",
       "    Reviews  \n",
       "45   174531  \n",
       "2     87510  \n",
       "19   224399  \n",
       "3    215644  \n",
       "42   295221  "
      ]
     },
     "execution_count": 174,
     "metadata": {},
     "output_type": "execute_result"
    }
   ],
   "source": [
    "art = gplay2.loc[(gplay2.Category == \"ART_AND_DESIGN\") & (gplay2.Rating >= 4.4) & (gplay2.Install >= 1000000) & (gplay2.Reviews >= 50000)]\n",
    "top_art = art.sort_values('Install', ascending=0).sort_values('Reviews', ascending=0).sort_values('Rating', ascending=0).drop_duplicates('App')\n",
    "top_5_art = top_art[['App','Rating','Install','Type','Reviews']]\n",
    "top_5_art.head(5)"
   ]
  },
  {
   "cell_type": "markdown",
   "metadata": {},
   "source": [
    "[Go to top](#top)"
   ]
  },
  {
   "cell_type": "markdown",
   "metadata": {},
   "source": [
    "### Aplikasi Bertukar Pesan yang Sering Digunakan Orang"
   ]
  },
  {
   "cell_type": "markdown",
   "metadata": {},
   "source": [
    "Udah gak jaman lagi bertukar pesan dengan sms berbayar, apalagi menggunakan pos. Sekarang jamannya bertukar pesan menggunakan aplikasi, disamping gratis menggunakan aplikasi juga lebih berfungsi dibandingkan sms biasa karena dia juga terkadang bisa mengirim file ataupun gambar dan bisa juga videocall. Nah aplikasi apa sih yang sering digunakan orang untuk bertukar pesan?. Berikut akan ditampilkan aplikasi bertukar pesan terpopuler berdasarkan :\n",
    "    1. Rating minimum 4.0\n",
    "    2. sudah diinstall lebih dari (atau sama dengan) 10jt kali\n",
    "    3. Direview lebih dari 500rb orang\n",
    "    4. Urutkan berdasarkan jumlah diinstall dan jumlah reviews (disini tidak dilihat berdasarkan rating, akan tetapi lebih ke jumlah penggunanya)\n",
    "    \n",
    "**Akan dilihat 5 Aplikasi Bertukar Pesan yang Paling Sering Digunakan versi saya**"
   ]
  },
  {
   "cell_type": "code",
   "execution_count": 188,
   "metadata": {},
   "outputs": [
    {
     "data": {
      "text/html": [
       "<div>\n",
       "<style scoped>\n",
       "    .dataframe tbody tr th:only-of-type {\n",
       "        vertical-align: middle;\n",
       "    }\n",
       "\n",
       "    .dataframe tbody tr th {\n",
       "        vertical-align: top;\n",
       "    }\n",
       "\n",
       "    .dataframe thead th {\n",
       "        text-align: right;\n",
       "    }\n",
       "</style>\n",
       "<table border=\"1\" class=\"dataframe\">\n",
       "  <thead>\n",
       "    <tr style=\"text-align: right;\">\n",
       "      <th></th>\n",
       "      <th>App</th>\n",
       "      <th>Rating</th>\n",
       "      <th>Install</th>\n",
       "      <th>Type</th>\n",
       "      <th>Reviews</th>\n",
       "    </tr>\n",
       "  </thead>\n",
       "  <tbody>\n",
       "    <tr>\n",
       "      <th>95</th>\n",
       "      <td>WhatsApp Messenger</td>\n",
       "      <td>4.4</td>\n",
       "      <td>1000000000</td>\n",
       "      <td>Free</td>\n",
       "      <td>69119316</td>\n",
       "    </tr>\n",
       "    <tr>\n",
       "      <th>96</th>\n",
       "      <td>Messenger – Text and Video Chat for Free</td>\n",
       "      <td>4.0</td>\n",
       "      <td>1000000000</td>\n",
       "      <td>Free</td>\n",
       "      <td>56646578</td>\n",
       "    </tr>\n",
       "    <tr>\n",
       "      <th>134</th>\n",
       "      <td>UC Browser - Fast Download Private &amp; Secure</td>\n",
       "      <td>4.5</td>\n",
       "      <td>500000000</td>\n",
       "      <td>Free</td>\n",
       "      <td>17714850</td>\n",
       "    </tr>\n",
       "    <tr>\n",
       "      <th>120</th>\n",
       "      <td>BBM - Free Calls &amp; Messages</td>\n",
       "      <td>4.3</td>\n",
       "      <td>100000000</td>\n",
       "      <td>Free</td>\n",
       "      <td>12842860</td>\n",
       "    </tr>\n",
       "    <tr>\n",
       "      <th>181</th>\n",
       "      <td>Viber Messenger</td>\n",
       "      <td>4.3</td>\n",
       "      <td>500000000</td>\n",
       "      <td>Free</td>\n",
       "      <td>11335255</td>\n",
       "    </tr>\n",
       "  </tbody>\n",
       "</table>\n",
       "</div>"
      ],
      "text/plain": [
       "                                             App  Rating     Install  Type  \\\n",
       "95                            WhatsApp Messenger     4.4  1000000000  Free   \n",
       "96      Messenger – Text and Video Chat for Free     4.0  1000000000  Free   \n",
       "134  UC Browser - Fast Download Private & Secure     4.5   500000000  Free   \n",
       "120                  BBM - Free Calls & Messages     4.3   100000000  Free   \n",
       "181                              Viber Messenger     4.3   500000000  Free   \n",
       "\n",
       "      Reviews  \n",
       "95   69119316  \n",
       "96   56646578  \n",
       "134  17714850  \n",
       "120  12842860  \n",
       "181  11335255  "
      ]
     },
     "execution_count": 188,
     "metadata": {},
     "output_type": "execute_result"
    }
   ],
   "source": [
    "comm = gplay2.loc[(gplay2.Category == \"COMMUNICATION\") & (gplay2.Rating >= 4.0) & (gplay2.Install >= 10000000) & (gplay2.Reviews >= 500000)]\n",
    "top_comm = comm.sort_values('Install', ascending=0).sort_values('Reviews', ascending=0).drop_duplicates('App')\n",
    "top_5_comm = top_comm[['App','Rating','Install','Type','Reviews']]\n",
    "top_5_comm.head(5)"
   ]
  },
  {
   "cell_type": "code",
   "execution_count": 396,
   "metadata": {},
   "outputs": [
    {
     "data": {
      "image/png": "[encoded data removed]",
      "text/plain": [
       "<Figure size 360x360 with 1 Axes>"
      ]
     },
     "metadata": {},
     "output_type": "display_data"
    }
   ],
   "source": [
    "plt.figure(figsize=(5,5)) # https://matplotlib.org/api/_as_gen/matplotlib.pyplot.figure.html#matplotlib.pyplot.figure\n",
    "p = sns.countplot(y=\"Install\", data=top_comm)"
   ]
  },
  {
   "cell_type": "markdown",
   "metadata": {},
   "source": [
    "Aplikasi komunikasi yang didownload oleh 100jt orang adalah yang terbanyak"
   ]
  },
  {
   "cell_type": "markdown",
   "metadata": {},
   "source": [
    "### Aplikasi Sosmed Terpopuler"
   ]
  },
  {
   "cell_type": "markdown",
   "metadata": {},
   "source": [
    "Untuk kalian yang ingin membagikan tentang kehidupan kalian dengan orang lain, kalian bisa menggunakan aplikasi sosial media. Tapi apa saja aplikasi terpopuler ? Akan ditentukan aplikasi sosmed terpopuler berdasarkan ketentuan berikut ini :\n",
    "    1. Rating minimum 4.0\n",
    "    2. sudah diinstall lebih dari (atau sama dengan) 10jt kali\n",
    "    3. Direview lebih dari 300rb orang\n",
    "    4. Urutkan berdasarkan jumlah diinstall dan jumlah reviews (disini tidak dilihat berdasarkan rating, akan tetapi lebih ke jumlah penggunanya)\n",
    "    \n",
    "**Akan dilihat 5 Aplikasi Sosmed Terpopuler versi saya**"
   ]
  },
  {
   "cell_type": "code",
   "execution_count": 190,
   "metadata": {
    "scrolled": false
   },
   "outputs": [
    {
     "data": {
      "text/html": [
       "<div>\n",
       "<style scoped>\n",
       "    .dataframe tbody tr th:only-of-type {\n",
       "        vertical-align: middle;\n",
       "    }\n",
       "\n",
       "    .dataframe tbody tr th {\n",
       "        vertical-align: top;\n",
       "    }\n",
       "\n",
       "    .dataframe thead th {\n",
       "        text-align: right;\n",
       "    }\n",
       "</style>\n",
       "<table border=\"1\" class=\"dataframe\">\n",
       "  <thead>\n",
       "    <tr style=\"text-align: right;\">\n",
       "      <th></th>\n",
       "      <th>App</th>\n",
       "      <th>Rating</th>\n",
       "      <th>Install</th>\n",
       "      <th>Type</th>\n",
       "      <th>Reviews</th>\n",
       "    </tr>\n",
       "  </thead>\n",
       "  <tbody>\n",
       "    <tr>\n",
       "      <th>707</th>\n",
       "      <td>Facebook</td>\n",
       "      <td>4.1</td>\n",
       "      <td>1000000000</td>\n",
       "      <td>Free</td>\n",
       "      <td>78158306</td>\n",
       "    </tr>\n",
       "    <tr>\n",
       "      <th>767</th>\n",
       "      <td>Instagram</td>\n",
       "      <td>4.5</td>\n",
       "      <td>1000000000</td>\n",
       "      <td>Free</td>\n",
       "      <td>66577446</td>\n",
       "    </tr>\n",
       "    <tr>\n",
       "      <th>773</th>\n",
       "      <td>Snapchat</td>\n",
       "      <td>4.0</td>\n",
       "      <td>500000000</td>\n",
       "      <td>Free</td>\n",
       "      <td>17015352</td>\n",
       "    </tr>\n",
       "    <tr>\n",
       "      <th>709</th>\n",
       "      <td>Facebook Lite</td>\n",
       "      <td>4.3</td>\n",
       "      <td>500000000</td>\n",
       "      <td>Free</td>\n",
       "      <td>8606259</td>\n",
       "    </tr>\n",
       "    <tr>\n",
       "      <th>717</th>\n",
       "      <td>Google+</td>\n",
       "      <td>4.2</td>\n",
       "      <td>1000000000</td>\n",
       "      <td>Free</td>\n",
       "      <td>4831125</td>\n",
       "    </tr>\n",
       "  </tbody>\n",
       "</table>\n",
       "</div>"
      ],
      "text/plain": [
       "               App  Rating     Install  Type   Reviews\n",
       "707       Facebook     4.1  1000000000  Free  78158306\n",
       "767      Instagram     4.5  1000000000  Free  66577446\n",
       "773       Snapchat     4.0   500000000  Free  17015352\n",
       "709  Facebook Lite     4.3   500000000  Free   8606259\n",
       "717        Google+     4.2  1000000000  Free   4831125"
      ]
     },
     "execution_count": 190,
     "metadata": {},
     "output_type": "execute_result"
    }
   ],
   "source": [
    "social = gplay2.loc[(gplay2.Category == \"SOCIAL\") & (gplay2.Rating >= 4.0) & (gplay2.Install >= 10000000) & (gplay2.Reviews >= 500000)]\n",
    "top_social = social.sort_values('Install', ascending=0).sort_values('Reviews', ascending=0).drop_duplicates('App')\n",
    "top_5_social = top_social[['App','Rating','Install','Type','Reviews']]\n",
    "top_5_social.head(5)"
   ]
  },
  {
   "cell_type": "code",
   "execution_count": 394,
   "metadata": {},
   "outputs": [
    {
     "data": {
      "image/png": "[encoded data removed]",
      "text/plain": [
       "<Figure size 360x360 with 1 Axes>"
      ]
     },
     "metadata": {},
     "output_type": "display_data"
    }
   ],
   "source": [
    "plt.figure(figsize=(5,5)) # https://matplotlib.org/api/_as_gen/matplotlib.pyplot.figure.html#matplotlib.pyplot.figure\n",
    "p = sns.countplot(y=\"Rating\", data=top_social)"
   ]
  },
  {
   "cell_type": "markdown",
   "metadata": {},
   "source": [
    "Ternyata Aplikasi terbanyak pada kategori Sosial Terpopuler memiliki rating 4.4 "
   ]
  },
  {
   "cell_type": "markdown",
   "metadata": {},
   "source": [
    "### Aplikasi Edukasi Terpopuler"
   ]
  },
  {
   "cell_type": "markdown",
   "metadata": {},
   "source": [
    "Untuk kalian yang tertarik untuk mengasah otak, atau  menambah ilmu kalian, tidak ada salahnya untuk mencoba aplikasi ini. Karena untuk belajar itu tidak harus di kelas, kalian bisa melakukannya sambil rebahan di rumah menggunakan smart phone kalian. Oleh karena itu akan ditunjukkan Aplikasi Edukasi terpopuler dengan ketentuan :\n",
    "    1. Rating minimum 4.5\n",
    "    2. Sudah diinstall lebih dari (atau sama dengan) 1jt kali\n",
    "    3. Direview lebih dari 100rb orang\n",
    "    4. Urutkan berdasarkan jumlah diinstall, rating dan jumlah reviews\n",
    "    \n",
    "**Akan dilihat 5 Aplikasi Edukasi Terpopuler versi saya**"
   ]
  },
  {
   "cell_type": "code",
   "execution_count": 196,
   "metadata": {},
   "outputs": [
    {
     "data": {
      "text/html": [
       "<div>\n",
       "<style scoped>\n",
       "    .dataframe tbody tr th:only-of-type {\n",
       "        vertical-align: middle;\n",
       "    }\n",
       "\n",
       "    .dataframe tbody tr th {\n",
       "        vertical-align: top;\n",
       "    }\n",
       "\n",
       "    .dataframe thead th {\n",
       "        text-align: right;\n",
       "    }\n",
       "</style>\n",
       "<table border=\"1\" class=\"dataframe\">\n",
       "  <thead>\n",
       "    <tr style=\"text-align: right;\">\n",
       "      <th></th>\n",
       "      <th>App</th>\n",
       "      <th>Rating</th>\n",
       "      <th>Install</th>\n",
       "      <th>Type</th>\n",
       "      <th>Reviews</th>\n",
       "    </tr>\n",
       "  </thead>\n",
       "  <tbody>\n",
       "    <tr>\n",
       "      <th>203</th>\n",
       "      <td>Learn Japanese, Korean, Chinese Offline &amp; Free</td>\n",
       "      <td>4.9</td>\n",
       "      <td>1000000</td>\n",
       "      <td>Free</td>\n",
       "      <td>133136</td>\n",
       "    </tr>\n",
       "    <tr>\n",
       "      <th>339</th>\n",
       "      <td>SoloLearn: Learn to Code for Free</td>\n",
       "      <td>4.8</td>\n",
       "      <td>1000000</td>\n",
       "      <td>Free</td>\n",
       "      <td>256079</td>\n",
       "    </tr>\n",
       "    <tr>\n",
       "      <th>317</th>\n",
       "      <td>Duolingo: Learn Languages Free</td>\n",
       "      <td>4.7</td>\n",
       "      <td>100000000</td>\n",
       "      <td>Free</td>\n",
       "      <td>6290507</td>\n",
       "    </tr>\n",
       "    <tr>\n",
       "      <th>289</th>\n",
       "      <td>Free english course</td>\n",
       "      <td>4.7</td>\n",
       "      <td>5000000</td>\n",
       "      <td>Free</td>\n",
       "      <td>142632</td>\n",
       "    </tr>\n",
       "    <tr>\n",
       "      <th>227</th>\n",
       "      <td>English with Lingualeo</td>\n",
       "      <td>4.7</td>\n",
       "      <td>5000000</td>\n",
       "      <td>Free</td>\n",
       "      <td>254519</td>\n",
       "    </tr>\n",
       "  </tbody>\n",
       "</table>\n",
       "</div>"
      ],
      "text/plain": [
       "                                                App  Rating    Install  Type  \\\n",
       "203  Learn Japanese, Korean, Chinese Offline & Free     4.9    1000000  Free   \n",
       "339               SoloLearn: Learn to Code for Free     4.8    1000000  Free   \n",
       "317                  Duolingo: Learn Languages Free     4.7  100000000  Free   \n",
       "289                             Free english course     4.7    5000000  Free   \n",
       "227                          English with Lingualeo     4.7    5000000  Free   \n",
       "\n",
       "     Reviews  \n",
       "203   133136  \n",
       "339   256079  \n",
       "317  6290507  \n",
       "289   142632  \n",
       "227   254519  "
      ]
     },
     "execution_count": 196,
     "metadata": {},
     "output_type": "execute_result"
    }
   ],
   "source": [
    "edu = gplay2.loc[(gplay2.Category == \"EDUCATION\") & (gplay2.Rating >= 4.5) & (gplay2.Install >= 1000000) & (gplay2.Reviews >= 100000)]\n",
    "top_edu = edu.sort_values('Install', ascending=0).sort_values('Reviews', ascending=0).sort_values('Rating', ascending=0).drop_duplicates('App')\n",
    "top_5_edu = top_edu[['App','Rating','Install','Type','Reviews']]\n",
    "top_5_edu.head(5)"
   ]
  },
  {
   "cell_type": "markdown",
   "metadata": {},
   "source": [
    "[Go to top](#top)"
   ]
  },
  {
   "cell_type": "markdown",
   "metadata": {},
   "source": [
    "## 5. Kesimpulan"
   ]
  },
  {
   "cell_type": "markdown",
   "metadata": {},
   "source": [
    "**Dari Analisis Di atas dapat disimpulkan bahwa :**\n",
    "    - Sebanyak 144 aplikasi berada pada rating 4.4\n",
    "    - Rata-rata rating aplikasi tiap kategori(dibulatkan) :\n",
    "        - ART_AND_DESIGN = 4.318\n",
    "        - COMMUNICATION = 4.260\n",
    "        - EDUCATION = 4.389\n",
    "        - GAME = 4.455\n",
    "        - SHOPPING = 4.302\n",
    "        - SOCIAL = 4.225\n",
    "    - Rating terbesar aplikasi berada di kategori EDUCATION dan GAME dengan rating 4.9\n",
    "    - GAME menemati aplikasi terbanyak berdasarkan kategori\n",
    "    - Jumlah Aplikasi berbayar sebanyak 14 dan yang paling banyak adalah game sebanyak 9 aplikasi berbayar\n",
    "    - Konten rating semua kategori aplikasi cenderung lebih banyak \"everyone\", kecuali Aplikasi SOCIAL\n",
    "    - Game paling populer berbayar no. 1 adalah ``The room : Old Sins``\n",
    "    - Game strategi no.1 adalah Clash Royale\n",
    "    - Game termahal adalah Starwars DIRTY dengan harga $99\n",
    "    - Popular APPS:\n",
    "        - Game paling populer no.1 adalah ``Wordscapes``\n",
    "        - SHOPPING APP no.1 adalah ``Wis-Shopping MadeFun``\n",
    "        - ART_AND_DESIGN APP no.1 adalah ``Canva``\n",
    "        - COMMUNICATION APP no.1 adalah ``WhatsApp``\n",
    "        - SOCIAL APP no.1 adalah Facebook\n",
    "        - EDUCATION APP no.1 adalah Learn Japanese, Korean, Chinese Offline"
   ]
  }
 ],
 "metadata": {
  "kernelspec": {
   "display_name": "Python 3",
   "language": "python",
   "name": "python3"
  },
  "language_info": {
   "codemirror_mode": {
    "name": "ipython",
    "version": 3
   },
   "file_extension": ".py",
   "mimetype": "text/x-python",
   "name": "python",
   "nbconvert_exporter": "python",
   "pygments_lexer": "ipython3",
   "version": "3.7.1"
  }
 },
 "nbformat": 4,
 "nbformat_minor": 2
}
